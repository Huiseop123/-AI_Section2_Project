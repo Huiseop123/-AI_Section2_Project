{
  "nbformat": 4,
  "nbformat_minor": 0,
  "metadata": {
    "colab": {
      "name": "Section2_Project.ipynb",
      "provenance": []
    },
    "kernelspec": {
      "name": "python3",
      "display_name": "Python 3"
    },
    "language_info": {
      "name": "python"
    }
  },
  "cells": [
    {
      "cell_type": "code",
      "execution_count": null,
      "metadata": {
        "id": "vxyqthSpPElJ"
      },
      "outputs": [],
      "source": [
        "column_explain = '/content/drive/MyDrive/Colab Notebooks/Section2_Project/TNM/K-드라마 프로그램 출연진정보 채_컬럼정의서.xlsx'\n",
        "data0_url = '/content/drive/MyDrive/Colab Notebooks/Section2_Project/TNM/TN_K_DRAMA_CST_AUDERT_INFO_202109.csv'\n",
        "data1_url = '/content/drive/MyDrive/Colab Notebooks/Section2_Project/TNM/TN_K_DRAMA_CST_AUDERT_INFO_202110.csv'\n",
        "data2_url = '/content/drive/MyDrive/Colab Notebooks/Section2_Project/TNM/TN_K_DRAMA_CST_AUDERT_INFO_202111.csv'\n",
        "test_url = '/content/drive/MyDrive/Colab Notebooks/Section2_Project/TNM/TN_K_DRAMA_CST_AUDERT_INFO_202112.csv'"
      ]
    },
    {
      "cell_type": "code",
      "source": [
        "# xlsx 파일을 불러오기위해서 xlrd를 최신 버전으로 업그레이드 해준다. #다른 것들도 다 install \n",
        "! pip install --upgrade xlrd\n",
        "! pip install shap\n",
        "! pip install pdpbox\n",
        "! pip install eli5\n",
        "! pip install category_encoders"
      ],
      "metadata": {
        "id": "Rja83gngQL51"
      },
      "execution_count": null,
      "outputs": []
    },
    {
      "cell_type": "code",
      "source": [
        "import pandas as pd\n",
        "import openpyxl\n",
        "import xlrd\n",
        "\n",
        "column_explain = pd.read_excel(column_explain)"
      ],
      "metadata": {
        "id": "hrl6KgC5P5XD"
      },
      "execution_count": null,
      "outputs": []
    },
    {
      "cell_type": "code",
      "source": [
        "column_explain"
      ],
      "metadata": {
        "colab": {
          "base_uri": "https://localhost:8080/",
          "height": 1000
        },
        "id": "METgMXigTHCy",
        "outputId": "e1c87542-9fee-44db-bdf9-180b8b04e4f5"
      },
      "execution_count": null,
      "outputs": [
        {
          "output_type": "execute_result",
          "data": {
            "text/plain": [
              "    순서                        컬럼영문명       컬럼한글명    데이터타입    길이 PK여부 NOT NULL여부\n",
              "0    1                    BRDCST_DE        방송일자  VARCHAR     8    Y          Y\n",
              "1    2                BRDCST_END_DE      방송종료일자  VARCHAR     8    Y          Y\n",
              "2    3                    CHNNEL_NM         채널명  VARCHAR   200    Y          Y\n",
              "3    4            PROGRM_BEGIN_TIME    프로그램시작시간  VARCHAR     6    Y          Y\n",
              "4    5              PROGRM_END_TIME    프로그램종료시간  VARCHAR     6    N          Y\n",
              "5    6                    PROGRM_NM       프로그램명  VARCHAR   200    N          Y\n",
              "6    7                    PROGRM_DC      프로그램설명  VARCHAR   500    N          N\n",
              "7    8                BRDCST_TME_NM       방송회차명  VARCHAR   200    N          N\n",
              "8    9        PROGRM_BRDCST_AREA_NM   프로그램방송지역명  VARCHAR   200    N          Y\n",
              "9   10                  BRDCST_TIME        방송시간  VARCHAR     6    N          Y\n",
              "10  11        PROGRM_GENRE_LCLAS_NM  프로그램장르대분류명  VARCHAR   200    N          Y\n",
              "11  12        PROGRM_GENRE_MLSFC_NM  프로그램장르중분류명  VARCHAR   200    N          Y\n",
              "12  13        PROGRM_GENRE_SCLAS_NM  프로그램장르소분류명  VARCHAR   200    N          Y\n",
              "13  14         MALE_4_9YO_WTCHNG_RT   남자4_9세시청율  DECIMAL  28,5    N          Y\n",
              "14  15          MALE_N10S_WTCHNG_RT    남자10대시청율  DECIMAL  28,5    N          Y\n",
              "15  16          MALE_N20S_WTCHNG_RT    남자20대시청율  DECIMAL  28,5    N          Y\n",
              "16  17          MALE_N30S_WTCHNG_RT    남자30대시청율  DECIMAL  28,5    N          Y\n",
              "17  18          MALE_N40S_WTCHNG_RT    남자40대시청율  DECIMAL  28,5    N          Y\n",
              "18  19          MALE_N50S_WTCHNG_RT    남자50대시청율  DECIMAL  28,5    N          Y\n",
              "19  20    MALE_N60S_ABOVE_WTCHNG_RT  남자60대이상시청율  DECIMAL  28,5    N          Y\n",
              "20  21       FEMALE_4_9YO_WTCHNG_RT   여자4_9세시청율  DECIMAL  28,5    N          Y\n",
              "21  22        FEMALE_N10S_WTCHNG_RT    여자10대시청율  DECIMAL  28,5    N          Y\n",
              "22  23        FEMALE_N20S_WTCHNG_RT    여자20대시청율  DECIMAL  28,5    N          Y\n",
              "23  24        FEMALE_N30S_WTCHNG_RT    여자30대시청율  DECIMAL  28,5    N          Y\n",
              "24  25        FEMALE_N40S_WTCHNG_RT    여자40대시청율  DECIMAL  28,5    N          Y\n",
              "25  26        FEMALE_N50S_WTCHNG_RT    여자50대시청율  DECIMAL  28,5    N          Y\n",
              "26  27  FEMALE_N60S_ABOVE_WTCHNG_RT  여자60대이상시청율  DECIMAL  28,5    N          Y\n",
              "27  28                       CST_CN       출연진내용  VARCHAR  1000    N          Y"
            ],
            "text/html": [
              "\n",
              "  <div id=\"df-8fbf86be-97dd-441b-a2fd-65a5a5673ade\">\n",
              "    <div class=\"colab-df-container\">\n",
              "      <div>\n",
              "<style scoped>\n",
              "    .dataframe tbody tr th:only-of-type {\n",
              "        vertical-align: middle;\n",
              "    }\n",
              "\n",
              "    .dataframe tbody tr th {\n",
              "        vertical-align: top;\n",
              "    }\n",
              "\n",
              "    .dataframe thead th {\n",
              "        text-align: right;\n",
              "    }\n",
              "</style>\n",
              "<table border=\"1\" class=\"dataframe\">\n",
              "  <thead>\n",
              "    <tr style=\"text-align: right;\">\n",
              "      <th></th>\n",
              "      <th>순서</th>\n",
              "      <th>컬럼영문명</th>\n",
              "      <th>컬럼한글명</th>\n",
              "      <th>데이터타입</th>\n",
              "      <th>길이</th>\n",
              "      <th>PK여부</th>\n",
              "      <th>NOT NULL여부</th>\n",
              "    </tr>\n",
              "  </thead>\n",
              "  <tbody>\n",
              "    <tr>\n",
              "      <th>0</th>\n",
              "      <td>1</td>\n",
              "      <td>BRDCST_DE</td>\n",
              "      <td>방송일자</td>\n",
              "      <td>VARCHAR</td>\n",
              "      <td>8</td>\n",
              "      <td>Y</td>\n",
              "      <td>Y</td>\n",
              "    </tr>\n",
              "    <tr>\n",
              "      <th>1</th>\n",
              "      <td>2</td>\n",
              "      <td>BRDCST_END_DE</td>\n",
              "      <td>방송종료일자</td>\n",
              "      <td>VARCHAR</td>\n",
              "      <td>8</td>\n",
              "      <td>Y</td>\n",
              "      <td>Y</td>\n",
              "    </tr>\n",
              "    <tr>\n",
              "      <th>2</th>\n",
              "      <td>3</td>\n",
              "      <td>CHNNEL_NM</td>\n",
              "      <td>채널명</td>\n",
              "      <td>VARCHAR</td>\n",
              "      <td>200</td>\n",
              "      <td>Y</td>\n",
              "      <td>Y</td>\n",
              "    </tr>\n",
              "    <tr>\n",
              "      <th>3</th>\n",
              "      <td>4</td>\n",
              "      <td>PROGRM_BEGIN_TIME</td>\n",
              "      <td>프로그램시작시간</td>\n",
              "      <td>VARCHAR</td>\n",
              "      <td>6</td>\n",
              "      <td>Y</td>\n",
              "      <td>Y</td>\n",
              "    </tr>\n",
              "    <tr>\n",
              "      <th>4</th>\n",
              "      <td>5</td>\n",
              "      <td>PROGRM_END_TIME</td>\n",
              "      <td>프로그램종료시간</td>\n",
              "      <td>VARCHAR</td>\n",
              "      <td>6</td>\n",
              "      <td>N</td>\n",
              "      <td>Y</td>\n",
              "    </tr>\n",
              "    <tr>\n",
              "      <th>5</th>\n",
              "      <td>6</td>\n",
              "      <td>PROGRM_NM</td>\n",
              "      <td>프로그램명</td>\n",
              "      <td>VARCHAR</td>\n",
              "      <td>200</td>\n",
              "      <td>N</td>\n",
              "      <td>Y</td>\n",
              "    </tr>\n",
              "    <tr>\n",
              "      <th>6</th>\n",
              "      <td>7</td>\n",
              "      <td>PROGRM_DC</td>\n",
              "      <td>프로그램설명</td>\n",
              "      <td>VARCHAR</td>\n",
              "      <td>500</td>\n",
              "      <td>N</td>\n",
              "      <td>N</td>\n",
              "    </tr>\n",
              "    <tr>\n",
              "      <th>7</th>\n",
              "      <td>8</td>\n",
              "      <td>BRDCST_TME_NM</td>\n",
              "      <td>방송회차명</td>\n",
              "      <td>VARCHAR</td>\n",
              "      <td>200</td>\n",
              "      <td>N</td>\n",
              "      <td>N</td>\n",
              "    </tr>\n",
              "    <tr>\n",
              "      <th>8</th>\n",
              "      <td>9</td>\n",
              "      <td>PROGRM_BRDCST_AREA_NM</td>\n",
              "      <td>프로그램방송지역명</td>\n",
              "      <td>VARCHAR</td>\n",
              "      <td>200</td>\n",
              "      <td>N</td>\n",
              "      <td>Y</td>\n",
              "    </tr>\n",
              "    <tr>\n",
              "      <th>9</th>\n",
              "      <td>10</td>\n",
              "      <td>BRDCST_TIME</td>\n",
              "      <td>방송시간</td>\n",
              "      <td>VARCHAR</td>\n",
              "      <td>6</td>\n",
              "      <td>N</td>\n",
              "      <td>Y</td>\n",
              "    </tr>\n",
              "    <tr>\n",
              "      <th>10</th>\n",
              "      <td>11</td>\n",
              "      <td>PROGRM_GENRE_LCLAS_NM</td>\n",
              "      <td>프로그램장르대분류명</td>\n",
              "      <td>VARCHAR</td>\n",
              "      <td>200</td>\n",
              "      <td>N</td>\n",
              "      <td>Y</td>\n",
              "    </tr>\n",
              "    <tr>\n",
              "      <th>11</th>\n",
              "      <td>12</td>\n",
              "      <td>PROGRM_GENRE_MLSFC_NM</td>\n",
              "      <td>프로그램장르중분류명</td>\n",
              "      <td>VARCHAR</td>\n",
              "      <td>200</td>\n",
              "      <td>N</td>\n",
              "      <td>Y</td>\n",
              "    </tr>\n",
              "    <tr>\n",
              "      <th>12</th>\n",
              "      <td>13</td>\n",
              "      <td>PROGRM_GENRE_SCLAS_NM</td>\n",
              "      <td>프로그램장르소분류명</td>\n",
              "      <td>VARCHAR</td>\n",
              "      <td>200</td>\n",
              "      <td>N</td>\n",
              "      <td>Y</td>\n",
              "    </tr>\n",
              "    <tr>\n",
              "      <th>13</th>\n",
              "      <td>14</td>\n",
              "      <td>MALE_4_9YO_WTCHNG_RT</td>\n",
              "      <td>남자4_9세시청율</td>\n",
              "      <td>DECIMAL</td>\n",
              "      <td>28,5</td>\n",
              "      <td>N</td>\n",
              "      <td>Y</td>\n",
              "    </tr>\n",
              "    <tr>\n",
              "      <th>14</th>\n",
              "      <td>15</td>\n",
              "      <td>MALE_N10S_WTCHNG_RT</td>\n",
              "      <td>남자10대시청율</td>\n",
              "      <td>DECIMAL</td>\n",
              "      <td>28,5</td>\n",
              "      <td>N</td>\n",
              "      <td>Y</td>\n",
              "    </tr>\n",
              "    <tr>\n",
              "      <th>15</th>\n",
              "      <td>16</td>\n",
              "      <td>MALE_N20S_WTCHNG_RT</td>\n",
              "      <td>남자20대시청율</td>\n",
              "      <td>DECIMAL</td>\n",
              "      <td>28,5</td>\n",
              "      <td>N</td>\n",
              "      <td>Y</td>\n",
              "    </tr>\n",
              "    <tr>\n",
              "      <th>16</th>\n",
              "      <td>17</td>\n",
              "      <td>MALE_N30S_WTCHNG_RT</td>\n",
              "      <td>남자30대시청율</td>\n",
              "      <td>DECIMAL</td>\n",
              "      <td>28,5</td>\n",
              "      <td>N</td>\n",
              "      <td>Y</td>\n",
              "    </tr>\n",
              "    <tr>\n",
              "      <th>17</th>\n",
              "      <td>18</td>\n",
              "      <td>MALE_N40S_WTCHNG_RT</td>\n",
              "      <td>남자40대시청율</td>\n",
              "      <td>DECIMAL</td>\n",
              "      <td>28,5</td>\n",
              "      <td>N</td>\n",
              "      <td>Y</td>\n",
              "    </tr>\n",
              "    <tr>\n",
              "      <th>18</th>\n",
              "      <td>19</td>\n",
              "      <td>MALE_N50S_WTCHNG_RT</td>\n",
              "      <td>남자50대시청율</td>\n",
              "      <td>DECIMAL</td>\n",
              "      <td>28,5</td>\n",
              "      <td>N</td>\n",
              "      <td>Y</td>\n",
              "    </tr>\n",
              "    <tr>\n",
              "      <th>19</th>\n",
              "      <td>20</td>\n",
              "      <td>MALE_N60S_ABOVE_WTCHNG_RT</td>\n",
              "      <td>남자60대이상시청율</td>\n",
              "      <td>DECIMAL</td>\n",
              "      <td>28,5</td>\n",
              "      <td>N</td>\n",
              "      <td>Y</td>\n",
              "    </tr>\n",
              "    <tr>\n",
              "      <th>20</th>\n",
              "      <td>21</td>\n",
              "      <td>FEMALE_4_9YO_WTCHNG_RT</td>\n",
              "      <td>여자4_9세시청율</td>\n",
              "      <td>DECIMAL</td>\n",
              "      <td>28,5</td>\n",
              "      <td>N</td>\n",
              "      <td>Y</td>\n",
              "    </tr>\n",
              "    <tr>\n",
              "      <th>21</th>\n",
              "      <td>22</td>\n",
              "      <td>FEMALE_N10S_WTCHNG_RT</td>\n",
              "      <td>여자10대시청율</td>\n",
              "      <td>DECIMAL</td>\n",
              "      <td>28,5</td>\n",
              "      <td>N</td>\n",
              "      <td>Y</td>\n",
              "    </tr>\n",
              "    <tr>\n",
              "      <th>22</th>\n",
              "      <td>23</td>\n",
              "      <td>FEMALE_N20S_WTCHNG_RT</td>\n",
              "      <td>여자20대시청율</td>\n",
              "      <td>DECIMAL</td>\n",
              "      <td>28,5</td>\n",
              "      <td>N</td>\n",
              "      <td>Y</td>\n",
              "    </tr>\n",
              "    <tr>\n",
              "      <th>23</th>\n",
              "      <td>24</td>\n",
              "      <td>FEMALE_N30S_WTCHNG_RT</td>\n",
              "      <td>여자30대시청율</td>\n",
              "      <td>DECIMAL</td>\n",
              "      <td>28,5</td>\n",
              "      <td>N</td>\n",
              "      <td>Y</td>\n",
              "    </tr>\n",
              "    <tr>\n",
              "      <th>24</th>\n",
              "      <td>25</td>\n",
              "      <td>FEMALE_N40S_WTCHNG_RT</td>\n",
              "      <td>여자40대시청율</td>\n",
              "      <td>DECIMAL</td>\n",
              "      <td>28,5</td>\n",
              "      <td>N</td>\n",
              "      <td>Y</td>\n",
              "    </tr>\n",
              "    <tr>\n",
              "      <th>25</th>\n",
              "      <td>26</td>\n",
              "      <td>FEMALE_N50S_WTCHNG_RT</td>\n",
              "      <td>여자50대시청율</td>\n",
              "      <td>DECIMAL</td>\n",
              "      <td>28,5</td>\n",
              "      <td>N</td>\n",
              "      <td>Y</td>\n",
              "    </tr>\n",
              "    <tr>\n",
              "      <th>26</th>\n",
              "      <td>27</td>\n",
              "      <td>FEMALE_N60S_ABOVE_WTCHNG_RT</td>\n",
              "      <td>여자60대이상시청율</td>\n",
              "      <td>DECIMAL</td>\n",
              "      <td>28,5</td>\n",
              "      <td>N</td>\n",
              "      <td>Y</td>\n",
              "    </tr>\n",
              "    <tr>\n",
              "      <th>27</th>\n",
              "      <td>28</td>\n",
              "      <td>CST_CN</td>\n",
              "      <td>출연진내용</td>\n",
              "      <td>VARCHAR</td>\n",
              "      <td>1000</td>\n",
              "      <td>N</td>\n",
              "      <td>Y</td>\n",
              "    </tr>\n",
              "  </tbody>\n",
              "</table>\n",
              "</div>\n",
              "      <button class=\"colab-df-convert\" onclick=\"convertToInteractive('df-8fbf86be-97dd-441b-a2fd-65a5a5673ade')\"\n",
              "              title=\"Convert this dataframe to an interactive table.\"\n",
              "              style=\"display:none;\">\n",
              "        \n",
              "  <svg xmlns=\"http://www.w3.org/2000/svg\" height=\"24px\"viewBox=\"0 0 24 24\"\n",
              "       width=\"24px\">\n",
              "    <path d=\"M0 0h24v24H0V0z\" fill=\"none\"/>\n",
              "    <path d=\"M18.56 5.44l.94 2.06.94-2.06 2.06-.94-2.06-.94-.94-2.06-.94 2.06-2.06.94zm-11 1L8.5 8.5l.94-2.06 2.06-.94-2.06-.94L8.5 2.5l-.94 2.06-2.06.94zm10 10l.94 2.06.94-2.06 2.06-.94-2.06-.94-.94-2.06-.94 2.06-2.06.94z\"/><path d=\"M17.41 7.96l-1.37-1.37c-.4-.4-.92-.59-1.43-.59-.52 0-1.04.2-1.43.59L10.3 9.45l-7.72 7.72c-.78.78-.78 2.05 0 2.83L4 21.41c.39.39.9.59 1.41.59.51 0 1.02-.2 1.41-.59l7.78-7.78 2.81-2.81c.8-.78.8-2.07 0-2.86zM5.41 20L4 18.59l7.72-7.72 1.47 1.35L5.41 20z\"/>\n",
              "  </svg>\n",
              "      </button>\n",
              "      \n",
              "  <style>\n",
              "    .colab-df-container {\n",
              "      display:flex;\n",
              "      flex-wrap:wrap;\n",
              "      gap: 12px;\n",
              "    }\n",
              "\n",
              "    .colab-df-convert {\n",
              "      background-color: #E8F0FE;\n",
              "      border: none;\n",
              "      border-radius: 50%;\n",
              "      cursor: pointer;\n",
              "      display: none;\n",
              "      fill: #1967D2;\n",
              "      height: 32px;\n",
              "      padding: 0 0 0 0;\n",
              "      width: 32px;\n",
              "    }\n",
              "\n",
              "    .colab-df-convert:hover {\n",
              "      background-color: #E2EBFA;\n",
              "      box-shadow: 0px 1px 2px rgba(60, 64, 67, 0.3), 0px 1px 3px 1px rgba(60, 64, 67, 0.15);\n",
              "      fill: #174EA6;\n",
              "    }\n",
              "\n",
              "    [theme=dark] .colab-df-convert {\n",
              "      background-color: #3B4455;\n",
              "      fill: #D2E3FC;\n",
              "    }\n",
              "\n",
              "    [theme=dark] .colab-df-convert:hover {\n",
              "      background-color: #434B5C;\n",
              "      box-shadow: 0px 1px 3px 1px rgba(0, 0, 0, 0.15);\n",
              "      filter: drop-shadow(0px 1px 2px rgba(0, 0, 0, 0.3));\n",
              "      fill: #FFFFFF;\n",
              "    }\n",
              "  </style>\n",
              "\n",
              "      <script>\n",
              "        const buttonEl =\n",
              "          document.querySelector('#df-8fbf86be-97dd-441b-a2fd-65a5a5673ade button.colab-df-convert');\n",
              "        buttonEl.style.display =\n",
              "          google.colab.kernel.accessAllowed ? 'block' : 'none';\n",
              "\n",
              "        async function convertToInteractive(key) {\n",
              "          const element = document.querySelector('#df-8fbf86be-97dd-441b-a2fd-65a5a5673ade');\n",
              "          const dataTable =\n",
              "            await google.colab.kernel.invokeFunction('convertToInteractive',\n",
              "                                                     [key], {});\n",
              "          if (!dataTable) return;\n",
              "\n",
              "          const docLinkHtml = 'Like what you see? Visit the ' +\n",
              "            '<a target=\"_blank\" href=https://colab.research.google.com/notebooks/data_table.ipynb>data table notebook</a>'\n",
              "            + ' to learn more about interactive tables.';\n",
              "          element.innerHTML = '';\n",
              "          dataTable['output_type'] = 'display_data';\n",
              "          await google.colab.output.renderOutput(dataTable, element);\n",
              "          const docLink = document.createElement('div');\n",
              "          docLink.innerHTML = docLinkHtml;\n",
              "          element.appendChild(docLink);\n",
              "        }\n",
              "      </script>\n",
              "    </div>\n",
              "  </div>\n",
              "  "
            ]
          },
          "metadata": {},
          "execution_count": 138
        }
      ]
    },
    {
      "cell_type": "code",
      "source": [
        "df0 = pd.read_csv(data0_url)\n",
        "df0.info(), df0.head()\n",
        "## 전체 4509"
      ],
      "metadata": {
        "id": "aCMtkvXDdW2c"
      },
      "execution_count": null,
      "outputs": []
    },
    {
      "cell_type": "code",
      "source": [
        "df1 = pd.read_csv(data1_url)\n",
        "df1.info(), df1.head()\n",
        "## 전체 4819\n",
        "df1['BRDCST_DE'].unique()"
      ],
      "metadata": {
        "id": "IWYj8c3lSFef"
      },
      "execution_count": null,
      "outputs": []
    },
    {
      "cell_type": "code",
      "source": [
        "df2 = pd.read_csv(data2_url)\n",
        "df2.info(), df2.head()\n",
        "## 전체 4711\n",
        "df2['BRDCST_DE'].unique()"
      ],
      "metadata": {
        "id": "8-t4nL1BSJth"
      },
      "execution_count": null,
      "outputs": []
    },
    {
      "cell_type": "code",
      "source": [
        "test = pd.read_csv(test_url)\n",
        "test.info(), test.head()\n",
        "## 전체 5315\n",
        "test['BRDCST_DE'].unique()"
      ],
      "metadata": {
        "id": "1sULmz8LTmyF"
      },
      "execution_count": null,
      "outputs": []
    },
    {
      "cell_type": "code",
      "source": [
        "# df0, df1, df2 모두 9, 10, 11월 값. test는 12월 값\n",
        "# concat으로 합친 후, 중복 값 확인. \n",
        "df = pd.concat([df0, df1, df2], ignore_index = True)\n",
        "df_ori = pd.concat([df0, df1, df2], ignore_index = True)"
      ],
      "metadata": {
        "id": "MElmgHjaUSvl"
      },
      "execution_count": null,
      "outputs": []
    },
    {
      "cell_type": "code",
      "source": [
        "print(len(df) == len(df1) + len(df2) + len(df0)) #정상적으로 합쳐짐.\n",
        "df.info()"
      ],
      "metadata": {
        "colab": {
          "base_uri": "https://localhost:8080/"
        },
        "id": "RgmqFVPgU7WP",
        "outputId": "422bee40-b7c8-424c-bed6-d4bd2adb4163"
      },
      "execution_count": null,
      "outputs": [
        {
          "output_type": "stream",
          "name": "stdout",
          "text": [
            "True\n",
            "<class 'pandas.core.frame.DataFrame'>\n",
            "RangeIndex: 14039 entries, 0 to 14038\n",
            "Data columns (total 28 columns):\n",
            " #   Column                       Non-Null Count  Dtype  \n",
            "---  ------                       --------------  -----  \n",
            " 0   BRDCST_DE                    14039 non-null  int64  \n",
            " 1   BRDCST_END_DE                14039 non-null  int64  \n",
            " 2   CHNNEL_NM                    14039 non-null  object \n",
            " 3   PROGRM_BEGIN_TIME            14039 non-null  int64  \n",
            " 4   PROGRM_END_TIME              14039 non-null  int64  \n",
            " 5   PROGRM_NM                    14039 non-null  object \n",
            " 6   PROGRM_DC                    168 non-null    object \n",
            " 7   BRDCST_TME_NM                13966 non-null  object \n",
            " 8   PROGRM_BRDCST_AREA_NM        14039 non-null  object \n",
            " 9   BRDCST_TIME                  14039 non-null  int64  \n",
            " 10  PROGRM_GENRE_LCLAS_NM        14039 non-null  object \n",
            " 11  PROGRM_GENRE_MLSFC_NM        14039 non-null  object \n",
            " 12  PROGRM_GENRE_SCLAS_NM        14039 non-null  object \n",
            " 13  MALE_4_9YO_WTCHNG_RT         14039 non-null  float64\n",
            " 14  MALE_N10S_WTCHNG_RT          14039 non-null  float64\n",
            " 15  MALE_N20S_WTCHNG_RT          14039 non-null  float64\n",
            " 16  MALE_N30S_WTCHNG_RT          14039 non-null  float64\n",
            " 17  MALE_N40S_WTCHNG_RT          14039 non-null  float64\n",
            " 18  MALE_N50S_WTCHNG_RT          14039 non-null  float64\n",
            " 19  MALE_N60S_ABOVE_WTCHNG_RT    14039 non-null  float64\n",
            " 20  FEMALE_4_9YO_WTCHNG_RT       14039 non-null  float64\n",
            " 21  FEMALE_N10S_WTCHNG_RT        14039 non-null  float64\n",
            " 22  FEMALE_N20S_WTCHNG_RT        14039 non-null  float64\n",
            " 23  FEMALE_N30S_WTCHNG_RT        14039 non-null  float64\n",
            " 24  FEMALE_N40S_WTCHNG_RT        14039 non-null  float64\n",
            " 25  FEMALE_N50S_WTCHNG_RT        14039 non-null  float64\n",
            " 26  FEMALE_N60S_ABOVE_WTCHNG_RT  14039 non-null  float64\n",
            " 27  CST_CN                       14039 non-null  object \n",
            "dtypes: float64(14), int64(5), object(9)\n",
            "memory usage: 3.0+ MB\n"
          ]
        }
      ]
    },
    {
      "cell_type": "code",
      "source": [
        "df.duplicated().sum() #중복 없음."
      ],
      "metadata": {
        "colab": {
          "base_uri": "https://localhost:8080/"
        },
        "id": "qjEnCXERVG0B",
        "outputId": "5d5e3513-c74c-4bab-8a4e-506b0b829442"
      },
      "execution_count": null,
      "outputs": [
        {
          "output_type": "execute_result",
          "data": {
            "text/plain": [
              "0"
            ]
          },
          "metadata": {},
          "execution_count": 162
        }
      ]
    },
    {
      "cell_type": "code",
      "source": [
        "## 특성을 엔지니어링 하는 함수 생성 ## \n",
        "\n",
        "def engineer(df):\n",
        "\n",
        "  # begin time conver to 'A','B','C', etc. def\n",
        "  def convert_time(x):\n",
        "    if (x >= 000000) & (x <= 25959):\n",
        "      return \"A\"\n",
        "    if x >= 30000 and x <= 55959:\n",
        "      return \"B\"\n",
        "    if x >= 60000 and x <= 85959:\n",
        "      return \"C\"\n",
        "    if x >= 90000 and x <= 115959:\n",
        "      return \"D\"\n",
        "    if x >= 120000 and x <= 145959:\n",
        "      return \"E\"\n",
        "    if x >= 150000 and x <= 175959:\n",
        "      return \"F\"\n",
        "    if x >= 180000 and x <= 205959:\n",
        "      return \"G\"\n",
        "    if x >= 210000 and x <= 235959:\n",
        "      return \"H\"\n",
        "  df['PROGRM_BEGIN_TIME'] = df['PROGRM_BEGIN_TIME'].apply(convert_time)\n",
        "\n",
        "  ## 컬럼명 변경\n",
        "  df.rename(columns = {'BRDCST_DE' : 'date',\n",
        "                     'CHNNEL_NM' : 'chanel',\n",
        "                     'PROGRM_BEGIN_TIME' : 'time',\n",
        "                     'PROGRM_NM' : 'name',\n",
        "                     'PROGRM_GENRE_SCLAS_NM' : 'genre',\n",
        "                     'MALE_N20S_WTCHNG_RT' : 'm_20',\n",
        "                     'MALE_N30S_WTCHNG_RT' : 'm_30',\n",
        "                     'FEMALE_N20S_WTCHNG_RT' : 'f_20',\n",
        "                     'FEMALE_N30S_WTCHNG_RT' : 'f_30',\n",
        "                     'CST_CN' : 'casting'}, inplace = True)\n",
        "  ###컬럼삭제\n",
        "  delete_columns = ['BRDCST_END_DE','PROGRM_DC', 'BRDCST_TME_NM', \n",
        "                  'PROGRM_BRDCST_AREA_NM','PROGRM_GENRE_LCLAS_NM', \n",
        "                  'PROGRM_GENRE_MLSFC_NM', 'PROGRM_END_TIME', \n",
        "                  'BRDCST_TIME', 'MALE_4_9YO_WTCHNG_RT',\n",
        "                  'MALE_N10S_WTCHNG_RT', 'MALE_N40S_WTCHNG_RT',\n",
        "                  'MALE_N50S_WTCHNG_RT','MALE_N60S_ABOVE_WTCHNG_RT',\n",
        "                  'FEMALE_4_9YO_WTCHNG_RT','FEMALE_N10S_WTCHNG_RT',\n",
        "                  'FEMALE_N40S_WTCHNG_RT','FEMALE_N50S_WTCHNG_RT',\n",
        "                  'FEMALE_N60S_ABOVE_WTCHNG_RT', 'date']\n",
        "  df.drop(columns = delete_columns, axis = 1, inplace=True)\n",
        "\n",
        "  return df"
      ],
      "metadata": {
        "id": "8W9sfHMdbAW9"
      },
      "execution_count": null,
      "outputs": []
    },
    {
      "cell_type": "code",
      "source": [
        "train = engineer(df)\n",
        "test = engineer(test)"
      ],
      "metadata": {
        "id": "1uoHqg7ue-GV"
      },
      "execution_count": null,
      "outputs": []
    },
    {
      "cell_type": "code",
      "source": [
        "train.head()"
      ],
      "metadata": {
        "colab": {
          "base_uri": "https://localhost:8080/",
          "height": 597
        },
        "id": "HF4TBNTnfmGH",
        "outputId": "0102a074-795d-47fb-c5ca-76bcdf33a8a7"
      },
      "execution_count": null,
      "outputs": [
        {
          "output_type": "execute_result",
          "data": {
            "text/plain": [
              "  chanel time   name  genre     m_20     m_30     f_20     f_30  \\\n",
              "0   KBS1    G  속아도꿈결  일일연속극  2.09781  3.07116  1.51997  3.11875   \n",
              "1   KBS2    D  속아도꿈결  일일연속극  0.22904  0.50181  0.33854  0.13986   \n",
              "2   KBS2    G   빨강구두  일일연속극  2.08174  4.12124  2.07667  4.97292   \n",
              "3    MBC    C  두번째남편  일일연속극  0.32441  0.38374  0.20008  0.78139   \n",
              "4    MBC    G  두번째남편  일일연속극  0.31510  1.94320  0.41742  1.87828   \n",
              "\n",
              "                                             casting  \n",
              "0  금종화역:최정우,강모란역:박준금,금상백역:류진,인영혜역:박탐희,금상구역:임형준,오민...  \n",
              "1  금종화역:최정우,강모란역:박준금,금상백역:류진,인영혜역:박탐희,금상구역:임형준,오민...  \n",
              "2  민희경역:최명길,김진아역:소이현,윤기석역:박윤재,윤현석역:신정윤,권혜빈역:정유민,권...  \n",
              "3  봉선화역:엄현경,윤재민역:차서원,윤재경역:오승아,문상혁역:한기웅,주해란역:지수원,윤...  \n",
              "4  봉선화역:엄현경,윤재민역:차서원,윤재경역:오승아,문상혁역:한기웅,주해란역:지수원,윤...  "
            ],
            "text/html": [
              "\n",
              "  <div id=\"df-cecc6a63-69f9-421d-8dac-4ebc190afa0a\">\n",
              "    <div class=\"colab-df-container\">\n",
              "      <div>\n",
              "<style scoped>\n",
              "    .dataframe tbody tr th:only-of-type {\n",
              "        vertical-align: middle;\n",
              "    }\n",
              "\n",
              "    .dataframe tbody tr th {\n",
              "        vertical-align: top;\n",
              "    }\n",
              "\n",
              "    .dataframe thead th {\n",
              "        text-align: right;\n",
              "    }\n",
              "</style>\n",
              "<table border=\"1\" class=\"dataframe\">\n",
              "  <thead>\n",
              "    <tr style=\"text-align: right;\">\n",
              "      <th></th>\n",
              "      <th>chanel</th>\n",
              "      <th>time</th>\n",
              "      <th>name</th>\n",
              "      <th>genre</th>\n",
              "      <th>m_20</th>\n",
              "      <th>m_30</th>\n",
              "      <th>f_20</th>\n",
              "      <th>f_30</th>\n",
              "      <th>casting</th>\n",
              "    </tr>\n",
              "  </thead>\n",
              "  <tbody>\n",
              "    <tr>\n",
              "      <th>0</th>\n",
              "      <td>KBS1</td>\n",
              "      <td>G</td>\n",
              "      <td>속아도꿈결</td>\n",
              "      <td>일일연속극</td>\n",
              "      <td>2.09781</td>\n",
              "      <td>3.07116</td>\n",
              "      <td>1.51997</td>\n",
              "      <td>3.11875</td>\n",
              "      <td>금종화역:최정우,강모란역:박준금,금상백역:류진,인영혜역:박탐희,금상구역:임형준,오민...</td>\n",
              "    </tr>\n",
              "    <tr>\n",
              "      <th>1</th>\n",
              "      <td>KBS2</td>\n",
              "      <td>D</td>\n",
              "      <td>속아도꿈결</td>\n",
              "      <td>일일연속극</td>\n",
              "      <td>0.22904</td>\n",
              "      <td>0.50181</td>\n",
              "      <td>0.33854</td>\n",
              "      <td>0.13986</td>\n",
              "      <td>금종화역:최정우,강모란역:박준금,금상백역:류진,인영혜역:박탐희,금상구역:임형준,오민...</td>\n",
              "    </tr>\n",
              "    <tr>\n",
              "      <th>2</th>\n",
              "      <td>KBS2</td>\n",
              "      <td>G</td>\n",
              "      <td>빨강구두</td>\n",
              "      <td>일일연속극</td>\n",
              "      <td>2.08174</td>\n",
              "      <td>4.12124</td>\n",
              "      <td>2.07667</td>\n",
              "      <td>4.97292</td>\n",
              "      <td>민희경역:최명길,김진아역:소이현,윤기석역:박윤재,윤현석역:신정윤,권혜빈역:정유민,권...</td>\n",
              "    </tr>\n",
              "    <tr>\n",
              "      <th>3</th>\n",
              "      <td>MBC</td>\n",
              "      <td>C</td>\n",
              "      <td>두번째남편</td>\n",
              "      <td>일일연속극</td>\n",
              "      <td>0.32441</td>\n",
              "      <td>0.38374</td>\n",
              "      <td>0.20008</td>\n",
              "      <td>0.78139</td>\n",
              "      <td>봉선화역:엄현경,윤재민역:차서원,윤재경역:오승아,문상혁역:한기웅,주해란역:지수원,윤...</td>\n",
              "    </tr>\n",
              "    <tr>\n",
              "      <th>4</th>\n",
              "      <td>MBC</td>\n",
              "      <td>G</td>\n",
              "      <td>두번째남편</td>\n",
              "      <td>일일연속극</td>\n",
              "      <td>0.31510</td>\n",
              "      <td>1.94320</td>\n",
              "      <td>0.41742</td>\n",
              "      <td>1.87828</td>\n",
              "      <td>봉선화역:엄현경,윤재민역:차서원,윤재경역:오승아,문상혁역:한기웅,주해란역:지수원,윤...</td>\n",
              "    </tr>\n",
              "  </tbody>\n",
              "</table>\n",
              "</div>\n",
              "      <button class=\"colab-df-convert\" onclick=\"convertToInteractive('df-cecc6a63-69f9-421d-8dac-4ebc190afa0a')\"\n",
              "              title=\"Convert this dataframe to an interactive table.\"\n",
              "              style=\"display:none;\">\n",
              "        \n",
              "  <svg xmlns=\"http://www.w3.org/2000/svg\" height=\"24px\"viewBox=\"0 0 24 24\"\n",
              "       width=\"24px\">\n",
              "    <path d=\"M0 0h24v24H0V0z\" fill=\"none\"/>\n",
              "    <path d=\"M18.56 5.44l.94 2.06.94-2.06 2.06-.94-2.06-.94-.94-2.06-.94 2.06-2.06.94zm-11 1L8.5 8.5l.94-2.06 2.06-.94-2.06-.94L8.5 2.5l-.94 2.06-2.06.94zm10 10l.94 2.06.94-2.06 2.06-.94-2.06-.94-.94-2.06-.94 2.06-2.06.94z\"/><path d=\"M17.41 7.96l-1.37-1.37c-.4-.4-.92-.59-1.43-.59-.52 0-1.04.2-1.43.59L10.3 9.45l-7.72 7.72c-.78.78-.78 2.05 0 2.83L4 21.41c.39.39.9.59 1.41.59.51 0 1.02-.2 1.41-.59l7.78-7.78 2.81-2.81c.8-.78.8-2.07 0-2.86zM5.41 20L4 18.59l7.72-7.72 1.47 1.35L5.41 20z\"/>\n",
              "  </svg>\n",
              "      </button>\n",
              "      \n",
              "  <style>\n",
              "    .colab-df-container {\n",
              "      display:flex;\n",
              "      flex-wrap:wrap;\n",
              "      gap: 12px;\n",
              "    }\n",
              "\n",
              "    .colab-df-convert {\n",
              "      background-color: #E8F0FE;\n",
              "      border: none;\n",
              "      border-radius: 50%;\n",
              "      cursor: pointer;\n",
              "      display: none;\n",
              "      fill: #1967D2;\n",
              "      height: 32px;\n",
              "      padding: 0 0 0 0;\n",
              "      width: 32px;\n",
              "    }\n",
              "\n",
              "    .colab-df-convert:hover {\n",
              "      background-color: #E2EBFA;\n",
              "      box-shadow: 0px 1px 2px rgba(60, 64, 67, 0.3), 0px 1px 3px 1px rgba(60, 64, 67, 0.15);\n",
              "      fill: #174EA6;\n",
              "    }\n",
              "\n",
              "    [theme=dark] .colab-df-convert {\n",
              "      background-color: #3B4455;\n",
              "      fill: #D2E3FC;\n",
              "    }\n",
              "\n",
              "    [theme=dark] .colab-df-convert:hover {\n",
              "      background-color: #434B5C;\n",
              "      box-shadow: 0px 1px 3px 1px rgba(0, 0, 0, 0.15);\n",
              "      filter: drop-shadow(0px 1px 2px rgba(0, 0, 0, 0.3));\n",
              "      fill: #FFFFFF;\n",
              "    }\n",
              "  </style>\n",
              "\n",
              "      <script>\n",
              "        const buttonEl =\n",
              "          document.querySelector('#df-cecc6a63-69f9-421d-8dac-4ebc190afa0a button.colab-df-convert');\n",
              "        buttonEl.style.display =\n",
              "          google.colab.kernel.accessAllowed ? 'block' : 'none';\n",
              "\n",
              "        async function convertToInteractive(key) {\n",
              "          const element = document.querySelector('#df-cecc6a63-69f9-421d-8dac-4ebc190afa0a');\n",
              "          const dataTable =\n",
              "            await google.colab.kernel.invokeFunction('convertToInteractive',\n",
              "                                                     [key], {});\n",
              "          if (!dataTable) return;\n",
              "\n",
              "          const docLinkHtml = 'Like what you see? Visit the ' +\n",
              "            '<a target=\"_blank\" href=https://colab.research.google.com/notebooks/data_table.ipynb>data table notebook</a>'\n",
              "            + ' to learn more about interactive tables.';\n",
              "          element.innerHTML = '';\n",
              "          dataTable['output_type'] = 'display_data';\n",
              "          await google.colab.output.renderOutput(dataTable, element);\n",
              "          const docLink = document.createElement('div');\n",
              "          docLink.innerHTML = docLinkHtml;\n",
              "          element.appendChild(docLink);\n",
              "        }\n",
              "      </script>\n",
              "    </div>\n",
              "  </div>\n",
              "  "
            ]
          },
          "metadata": {},
          "execution_count": 301
        }
      ]
    },
    {
      "cell_type": "code",
      "source": [
        "train.shape, test.shape"
      ],
      "metadata": {
        "colab": {
          "base_uri": "https://localhost:8080/"
        },
        "id": "5Lo6baC3fgxE",
        "outputId": "44d4f661-2778-4bd9-e6a4-85a80d375e3e"
      },
      "execution_count": null,
      "outputs": [
        {
          "output_type": "execute_result",
          "data": {
            "text/plain": [
              "((14039, 10), (5315, 10))"
            ]
          },
          "metadata": {},
          "execution_count": 171
        }
      ]
    },
    {
      "cell_type": "code",
      "source": [
        "target = 'm_30'\n",
        "train, val = train_test_split(train, train_size = 0.8, test_size = 0.2, random_state = 2)"
      ],
      "metadata": {
        "id": "5ESUjzQugjR0"
      },
      "execution_count": null,
      "outputs": []
    },
    {
      "cell_type": "code",
      "source": [
        "X_train = train.drop(columns=target)\n",
        "y_train = train[target]\n",
        "X_val = val.drop(columns=target)\n",
        "y_val = val[target]\n",
        "X_test = test.drop(columns=target)\n",
        "y_test = test[target]"
      ],
      "metadata": {
        "id": "Emab9kG-iLvC"
      },
      "execution_count": null,
      "outputs": []
    },
    {
      "cell_type": "code",
      "source": [
        "X_train.shape, X_val.shape, y_train.shape, y_val.shape"
      ],
      "metadata": {
        "colab": {
          "base_uri": "https://localhost:8080/"
        },
        "id": "ZDqD3AUgibjZ",
        "outputId": "f5110137-fa87-4c04-8863-15008d1c144f"
      },
      "execution_count": null,
      "outputs": [
        {
          "output_type": "execute_result",
          "data": {
            "text/plain": [
              "((11231, 9), (2808, 9), (11231,), (2808,))"
            ]
          },
          "metadata": {},
          "execution_count": 174
        }
      ]
    },
    {
      "cell_type": "code",
      "source": [
        "print(len(df.shape) == len(train.shape))"
      ],
      "metadata": {
        "colab": {
          "base_uri": "https://localhost:8080/"
        },
        "id": "HsXOwPIIi2s3",
        "outputId": "01ae5938-8e13-42af-ae65-5a0085d4fd29"
      },
      "execution_count": null,
      "outputs": [
        {
          "output_type": "stream",
          "name": "stdout",
          "text": [
            "True\n"
          ]
        }
      ]
    },
    {
      "cell_type": "code",
      "source": [
        "import matplotlib.pyplot as plt\n",
        "colors = ['#E76939', '#9B2B5A', '#E50E45', '#6D045E','#022A76', '#191232',\n",
        "          '#F4B951', '#055156', '#A6D26A', '#13BC81','#252848', '#076F50']\n",
        "plt.figure(figsize=(6,4))\n",
        "plt.title('Time distribution', size = 15)\n",
        "plt.hist(df_ori['PROGRM_BEGIN_TIME'])\n",
        "plt.show()"
      ],
      "metadata": {
        "colab": {
          "base_uri": "https://localhost:8080/",
          "height": 283
        },
        "id": "jf4UCRRGRnQh",
        "outputId": "79c34d1a-3a5c-4e68-b81c-c099a9154bcf"
      },
      "execution_count": null,
      "outputs": [
        {
          "output_type": "display_data",
          "data": {
            "text/plain": [
              "<Figure size 432x288 with 1 Axes>"
            ],
            "image/png": "[encoded data removed]"
          },
          "metadata": {
            "needs_background": "light"
          }
        }
      ]
    },
    {
      "cell_type": "code",
      "source": [
        "y_axis = X_train['time'].value_counts()\n",
        "y_axis\n",
        "x_axis = ['A', 'B', 'C', 'D','E','F','G','H']"
      ],
      "metadata": {
        "id": "dC4ZhcsHWDe_"
      },
      "execution_count": null,
      "outputs": []
    },
    {
      "cell_type": "code",
      "source": [
        "plt.figure(figsize=(6,4))\n",
        "plt.title('Time distribution', size = 15)\n",
        "plt.bar(x_axis, y_axis)\n",
        "plt.show()"
      ],
      "metadata": {
        "colab": {
          "base_uri": "https://localhost:8080/",
          "height": 283
        },
        "id": "eOd8YgnfS1aR",
        "outputId": "b659dc49-943c-475d-9478-b046565e0f48"
      },
      "execution_count": null,
      "outputs": [
        {
          "output_type": "display_data",
          "data": {
            "text/plain": [
              "<Figure size 432x288 with 1 Axes>"
            ],
            "image/png": "[encoded data removed]"
          },
          "metadata": {
            "needs_background": "light"
          }
        }
      ]
    },
    {
      "cell_type": "code",
      "source": [
        "y_train.sort_values(ascending=False).describe()"
      ],
      "metadata": {
        "colab": {
          "base_uri": "https://localhost:8080/"
        },
        "id": "Nrizr6jdtpi8",
        "outputId": "5c4511dd-28f7-4bc8-c408-74c868700e6c"
      },
      "execution_count": null,
      "outputs": [
        {
          "output_type": "execute_result",
          "data": {
            "text/plain": [
              "count    11231.000000\n",
              "mean         0.153702\n",
              "std          0.519265\n",
              "min          0.000000\n",
              "25%          0.000000\n",
              "50%          0.018400\n",
              "75%          0.094365\n",
              "max          8.133860\n",
              "Name: m_30, dtype: float64"
            ]
          },
          "metadata": {},
          "execution_count": 235
        }
      ]
    },
    {
      "cell_type": "code",
      "source": [
        "import seaborn as sns\n",
        "from scipy import stats\n",
        "sns.distplot(np.log1p(y_train))"
      ],
      "metadata": {
        "colab": {
          "base_uri": "https://localhost:8080/",
          "height": 336
        },
        "id": "P8PZ7v-blxNd",
        "outputId": "6268b75b-6944-4eda-d211-e2f2d634ed41"
      },
      "execution_count": null,
      "outputs": [
        {
          "output_type": "stream",
          "name": "stderr",
          "text": [
            "`distplot` is a deprecated function and will be removed in a future version. Please adapt your code to use either `displot` (a figure-level function with similar flexibility) or `histplot` (an axes-level function for histograms).\n"
          ]
        },
        {
          "output_type": "execute_result",
          "data": {
            "text/plain": [
              "<matplotlib.axes._subplots.AxesSubplot at 0x7f898d25e410>"
            ]
          },
          "metadata": {},
          "execution_count": 242
        },
        {
          "output_type": "display_data",
          "data": {
            "text/plain": [
              "<Figure size 432x288 with 1 Axes>"
            ],
            "image/png": "[encoded data removed]"
          },
          "metadata": {
            "needs_background": "light"
          }
        }
      ]
    },
    {
      "cell_type": "code",
      "source": [
        "sns.distplot((y_train))"
      ],
      "metadata": {
        "colab": {
          "base_uri": "https://localhost:8080/",
          "height": 336
        },
        "id": "1smtO2tYybpX",
        "outputId": "4c39c291-51cb-41ac-ecb8-f55d7d37b3b1"
      },
      "execution_count": null,
      "outputs": [
        {
          "output_type": "stream",
          "name": "stderr",
          "text": [
            "`distplot` is a deprecated function and will be removed in a future version. Please adapt your code to use either `displot` (a figure-level function with similar flexibility) or `histplot` (an axes-level function for histograms).\n"
          ]
        },
        {
          "output_type": "execute_result",
          "data": {
            "text/plain": [
              "<matplotlib.axes._subplots.AxesSubplot at 0x7f898d100f50>"
            ]
          },
          "metadata": {},
          "execution_count": 243
        },
        {
          "output_type": "display_data",
          "data": {
            "text/plain": [
              "<Figure size 432x288 with 1 Axes>"
            ],
            "image/png": "[encoded data removed]"
          },
          "metadata": {
            "needs_background": "light"
          }
        }
      ]
    },
    {
      "cell_type": "code",
      "source": [
        "yy_train = df[df['m_30'] < np.percentile(df['m_30'], 99.5)]['m_30']\n",
        "yy_train.describe()\n",
        "df.shape"
      ],
      "metadata": {
        "colab": {
          "base_uri": "https://localhost:8080/"
        },
        "id": "DPOxPjq2zq9l",
        "outputId": "1552cefc-9305-4ac2-8bc5-64452b0968dd"
      },
      "execution_count": null,
      "outputs": [
        {
          "output_type": "execute_result",
          "data": {
            "text/plain": [
              "(14039, 10)"
            ]
          },
          "metadata": {},
          "execution_count": 268
        }
      ]
    },
    {
      "cell_type": "code",
      "source": [
        "yy_train = (y_train < np.percentile(y_train, 99.5))\n",
        "yy_train = (yy_train > np.percentile(y_train, 99.5))"
      ],
      "metadata": {
        "id": "-5LXOYc1yhV-"
      },
      "execution_count": null,
      "outputs": []
    },
    {
      "cell_type": "code",
      "source": [
        "yy_train"
      ],
      "metadata": {
        "colab": {
          "base_uri": "https://localhost:8080/"
        },
        "id": "RQSoyqRzzTdS",
        "outputId": "44b6d1de-ffb9-41b3-e31e-6c63cdaf144b"
      },
      "execution_count": null,
      "outputs": [
        {
          "output_type": "execute_result",
          "data": {
            "text/plain": [
              "0        3.07116\n",
              "1        0.50181\n",
              "2        4.12124\n",
              "3        0.38374\n",
              "4        1.94320\n",
              "          ...   \n",
              "14034    0.00000\n",
              "14035    0.00000\n",
              "14036    0.00000\n",
              "14037    0.02188\n",
              "14038    0.15313\n",
              "Name: m_30, Length: 13968, dtype: float64"
            ]
          },
          "metadata": {},
          "execution_count": 265
        }
      ]
    },
    {
      "cell_type": "code",
      "source": [
        "sns.distplot(np.log1p(yy_train))"
      ],
      "metadata": {
        "colab": {
          "base_uri": "https://localhost:8080/",
          "height": 336
        },
        "id": "xsKnQ1bhyvtM",
        "outputId": "700a5ac4-4c74-4529-fdd8-dd619957999d"
      },
      "execution_count": null,
      "outputs": [
        {
          "output_type": "stream",
          "name": "stderr",
          "text": [
            "`distplot` is a deprecated function and will be removed in a future version. Please adapt your code to use either `displot` (a figure-level function with similar flexibility) or `histplot` (an axes-level function for histograms).\n"
          ]
        },
        {
          "output_type": "execute_result",
          "data": {
            "text/plain": [
              "<matplotlib.axes._subplots.AxesSubplot at 0x7f898f9ffc50>"
            ]
          },
          "metadata": {},
          "execution_count": 266
        },
        {
          "output_type": "display_data",
          "data": {
            "text/plain": [
              "<Figure size 432x288 with 1 Axes>"
            ],
            "image/png": "[encoded data removed]"
          },
          "metadata": {
            "needs_background": "light"
          }
        }
      ]
    },
    {
      "cell_type": "code",
      "source": [
        "y_train.isnull().sum()\n",
        "y_train"
      ],
      "metadata": {
        "colab": {
          "base_uri": "https://localhost:8080/"
        },
        "id": "2TX1J5Rcm0tN",
        "outputId": "c724f1d0-32f1-4428-b701-f395aeb4c1a8"
      },
      "execution_count": null,
      "outputs": [
        {
          "output_type": "execute_result",
          "data": {
            "text/plain": [
              "12124    0.00838\n",
              "4351     0.83864\n",
              "9293     0.00753\n",
              "5490     0.07578\n",
              "5873     0.00000\n",
              "          ...   \n",
              "11798    0.23889\n",
              "13896    0.09357\n",
              "6637     0.02528\n",
              "2575     0.01436\n",
              "7336     0.00000\n",
              "Name: m_30, Length: 11231, dtype: float64"
            ]
          },
          "metadata": {},
          "execution_count": 271
        }
      ]
    },
    {
      "cell_type": "code",
      "source": [
        "import numpy as np \n",
        "plt.figure(figsize=(6,4))\n",
        "plt.title('m_20 distribution', size = 15)\n",
        "plt.hist(y_train)\n",
        "plt.show()"
      ],
      "metadata": {
        "colab": {
          "base_uri": "https://localhost:8080/",
          "height": 283
        },
        "id": "7HaWI9celVbd",
        "outputId": "e92c4b6c-833b-4b65-a220-b57df55ae58f"
      },
      "execution_count": null,
      "outputs": [
        {
          "output_type": "display_data",
          "data": {
            "text/plain": [
              "<Figure size 432x288 with 1 Axes>"
            ],
            "image/png": "[encoded data removed]"
          },
          "metadata": {
            "needs_background": "light"
          }
        }
      ]
    },
    {
      "cell_type": "code",
      "source": [
        "baseline = y_train.mean()\n",
        "baseline"
      ],
      "metadata": {
        "colab": {
          "base_uri": "https://localhost:8080/"
        },
        "id": "Y7mXLR4akBl9",
        "outputId": "8469ca35-e07e-42c3-fbe3-d90b560be95a"
      },
      "execution_count": null,
      "outputs": [
        {
          "output_type": "execute_result",
          "data": {
            "text/plain": [
              "0.1537021556406375"
            ]
          },
          "metadata": {},
          "execution_count": 183
        }
      ]
    },
    {
      "cell_type": "code",
      "source": [
        "# 기준모델로 훈련 에러(MAE) 계산\n",
        "from sklearn.metrics import mean_absolute_error, mean_squared_error\n",
        "y_pred = [baseline] * len(y_train)\n",
        "mae = mean_absolute_error(y_train, y_pred)\n",
        "mse = mean_squared_error(y_train, y_pred)\n",
        "print(f'MAE훈련 에러: {mae:.10f}')\n",
        "print(f'MSE훈련 에러: {mse:.10f}')"
      ],
      "metadata": {
        "colab": {
          "base_uri": "https://localhost:8080/"
        },
        "id": "3fO-WYyilJfo",
        "outputId": "c82005c0-3f0f-4407-894e-7714f0ff45a0"
      },
      "execution_count": null,
      "outputs": [
        {
          "output_type": "stream",
          "name": "stdout",
          "text": [
            "MAE훈련 에러: 0.2082261675\n",
            "MSE훈련 에러: 0.2696117100\n"
          ]
        }
      ]
    },
    {
      "cell_type": "code",
      "source": [
        "# 테스트 에러(MAE)\n",
        "y_pred = [baseline] * len(y_test)\n",
        "mae = mean_absolute_error(y_test, y_pred)\n",
        "mae = mean_squared_error(y_test, y_pred)\n",
        "print(f'MAE테스트 에러: {mae:.10f}')\n",
        "print(f'MSE테스트 에러: {mse:.10f}')"
      ],
      "metadata": {
        "colab": {
          "base_uri": "https://localhost:8080/"
        },
        "id": "-El1fdrO9n9-",
        "outputId": "ba9edf34-0116-44c0-ea35-a8a2e233ddb5"
      },
      "execution_count": null,
      "outputs": [
        {
          "output_type": "stream",
          "name": "stdout",
          "text": [
            "MAE테스트 에러: 0.2330294951\n",
            "MSE테스트 에러: 0.2696117100\n"
          ]
        }
      ]
    },
    {
      "cell_type": "code",
      "source": [
        "## LinearRegression\n",
        "from sklearn.preprocessing import MinMaxScaler\n",
        "from sklearn.impute import SimpleImputer\n",
        "from sklearn.ensemble import RandomForestRegressor\n",
        "from sklearn.compose import TransformedTargetRegressor\n",
        "from sklearn.metrics import classification_report\n",
        "from sklearn.metrics import f1_score, roc_auc_score\n",
        "from category_encoders import OrdinalEncoder, OneHotEncoder, TargetEncoder\n",
        "from sklearn.model_selection import RandomizedSearchCV\n",
        "from sklearn.pipeline import make_pipeline, Pipeline\n",
        "from scipy.stats import randint, uniform\n",
        "import warnings\n",
        "warnings.filterwarnings(\"ignore\")\n",
        "\n",
        "\n",
        "scaled_columns = ['m_20', 'f_20', 'f_30']\n",
        "scaler = MinMaxScaler().fit(X_train[scaled_columns])\n",
        "pipeline = make_pipeline(\n",
        "    TargetEncoder(cols = ['chanel', 'time', 'name', 'genre', 'casting']),\n",
        "    RandomForestRegressor(n_jobs=-1)\n",
        "    )\n",
        "\n",
        "dists = { \n",
        "    'randomforestregressor__n_estimators': randint(50, 500),\n",
        "    'randomforestregressor__max_depth': [5, 10, 15, 20, 25, None],\n",
        "    'randomforestregressor__min_samples_leaf': [1, 2, 3, 4, 5, 6],\n",
        "    'randomforestregressor__min_samples_split': [2, 3, 4, 5, 6, 7],\n",
        "    }\n",
        "\n",
        "clf = RandomizedSearchCV(\n",
        "    pipeline,\n",
        "    param_distributions= dists, \n",
        "    n_iter=8, \n",
        "    cv=5, \n",
        "    scoring='neg_mean_absolute_error',  \n",
        "    verbose=1,\n",
        "    refit=True,\n",
        "    n_jobs=-2\n",
        "    )\n",
        "\n",
        "clf.fit(X_train, y_train)"
      ],
      "metadata": {
        "colab": {
          "base_uri": "https://localhost:8080/"
        },
        "id": "qwtaWh17-Ggz",
        "outputId": "ce3a42e0-1a43-48a1-d68a-57ee4794f542"
      },
      "execution_count": null,
      "outputs": [
        {
          "output_type": "stream",
          "name": "stdout",
          "text": [
            "Fitting 5 folds for each of 8 candidates, totalling 40 fits\n"
          ]
        },
        {
          "output_type": "execute_result",
          "data": {
            "text/plain": [
              "RandomizedSearchCV(cv=5,\n",
              "                   estimator=Pipeline(steps=[('targetencoder',\n",
              "                                              TargetEncoder(cols=['chanel',\n",
              "                                                                  'time',\n",
              "                                                                  'name',\n",
              "                                                                  'genre',\n",
              "                                                                  'casting'])),\n",
              "                                             ('randomforestregressor',\n",
              "                                              RandomForestRegressor(n_jobs=-1))]),\n",
              "                   n_iter=8, n_jobs=-2,\n",
              "                   param_distributions={'randomforestregressor__max_depth': [5,\n",
              "                                                                             10,\n",
              "                                                                             15,\n",
              "                                                                             20,\n",
              "                                                                             25,\n",
              "                                                                             None],\n",
              "                                        'randomforestregressor__min_samples_leaf': [1,\n",
              "                                                                                    2,\n",
              "                                                                                    3,\n",
              "                                                                                    4,\n",
              "                                                                                    5,\n",
              "                                                                                    6],\n",
              "                                        'randomforestregressor__min_samples_split': [2,\n",
              "                                                                                     3,\n",
              "                                                                                     4,\n",
              "                                                                                     5,\n",
              "                                                                                     6,\n",
              "                                                                                     7],\n",
              "                                        'randomforestregressor__n_estimators': <scipy.stats._distn_infrastructure.rv_frozen object at 0x7f89b3e20610>},\n",
              "                   scoring='neg_mean_absolute_error', verbose=1)"
            ]
          },
          "metadata": {},
          "execution_count": 306
        }
      ]
    },
    {
      "cell_type": "code",
      "source": [
        "print('MAE: ', -clf.best_score_)"
      ],
      "metadata": {
        "colab": {
          "base_uri": "https://localhost:8080/"
        },
        "id": "5SnQjrmnEYo6",
        "outputId": "8d4abcad-7bd9-48ed-b9a9-45f930d746f7"
      },
      "execution_count": null,
      "outputs": [
        {
          "output_type": "stream",
          "name": "stdout",
          "text": [
            "MAE:  0.07592579194921573\n"
          ]
        }
      ]
    },
    {
      "cell_type": "code",
      "source": [
        "pipe = clf.best_estimator_\n",
        "y_pred = pipe.predict(X_test)\n",
        "mae = mean_absolute_error(y_test, y_pred)\n",
        "mse = mean_squared_error(y_test,y_pred)\n",
        "print(f'테스트세트 MAE: {mae:,.10f}')\n",
        "print(f'테스트세트 MSE: {mse:,.10f}')"
      ],
      "metadata": {
        "colab": {
          "base_uri": "https://localhost:8080/"
        },
        "id": "Ow3jNXtQEdC6",
        "outputId": "e071bb5c-2c0d-4a84-8a71-be09a29cce8f"
      },
      "execution_count": null,
      "outputs": [
        {
          "output_type": "stream",
          "name": "stdout",
          "text": [
            "테스트세트 MAE: 0.0837466234\n",
            "테스트세트 MSE: 0.0296686259\n"
          ]
        }
      ]
    },
    {
      "cell_type": "code",
      "source": [
        "from sklearn.linear_model import LinearRegression\n",
        "lr = LinearRegression()\n",
        "scaled_columns = ['m_20', 'f_20', 'f_30']\n",
        "MinMaxScaler().fit(X_train[scaled_columns])\n",
        "encoder = OneHotEncoder(use_cat_names = True)\n",
        "X_train = encoder.fit_transform(X_train)\n",
        "# TargetEncoder().fit(X_train)\n",
        "lr.fit(X_train, y_train)"
      ],
      "metadata": {
        "colab": {
          "base_uri": "https://localhost:8080/"
        },
        "id": "b1BeKQGUFfAk",
        "outputId": "31051823-285c-4ab7-d031-37e4bc450d9a"
      },
      "execution_count": null,
      "outputs": [
        {
          "output_type": "execute_result",
          "data": {
            "text/plain": [
              "LinearRegression()"
            ]
          },
          "metadata": {},
          "execution_count": 343
        }
      ]
    },
    {
      "cell_type": "code",
      "source": [
        "X_test = encoder.transform(X_test)"
      ],
      "metadata": {
        "id": "DfGaWv3_HKfA"
      },
      "execution_count": null,
      "outputs": []
    },
    {
      "cell_type": "code",
      "source": [
        "y_pred = lr.predict(X_test)\n",
        "mae = mean_absolute_error(y_test, y_pred)\n",
        "mse = mean_squared_error(y_test,y_pred)\n",
        "print(f'테스트세트 MAE: {mae:,.10f}')\n",
        "print(f'테스트세트 MSE: {mse:,.10f}')"
      ],
      "metadata": {
        "colab": {
          "base_uri": "https://localhost:8080/"
        },
        "id": "uglFW_S1HiIn",
        "outputId": "338c46d8-839a-4787-9788-6a333a7358a7"
      },
      "execution_count": null,
      "outputs": [
        {
          "output_type": "stream",
          "name": "stdout",
          "text": [
            "테스트세트 MAE: 50,744,869,989.9929656982\n",
            "테스트세트 MSE: 11,532,465,538,338,996,092,928.0000000000\n"
          ]
        }
      ]
    },
    {
      "cell_type": "code",
      "source": [
        "lr.coef_, lr.intercept_"
      ],
      "metadata": {
        "colab": {
          "base_uri": "https://localhost:8080/"
        },
        "id": "VWFFJrD8ICPY",
        "outputId": "2b5c342f-21db-43a2-a743-f52f51d7c09a"
      },
      "execution_count": null,
      "outputs": [
        {
          "output_type": "execute_result",
          "data": {
            "text/plain": [
              "(array([-3.10184215e+08, -3.10184215e+08,  4.94113519e+10, -3.10184215e+08,\n",
              "        -3.10184215e+08, -3.10184215e+08, -1.58927417e+11, -3.10184215e+08,\n",
              "        -3.10184215e+08, -3.10184215e+08, -3.10184215e+08, -3.10184215e+08,\n",
              "        -3.10184216e+08, -3.10184216e+08, -3.10184215e+08, -3.10184215e+08,\n",
              "        -3.10184215e+08, -3.10184215e+08, -3.10184215e+08, -3.10184215e+08,\n",
              "        -3.10184215e+08, -3.10184215e+08, -3.10184215e+08, -3.10184216e+08,\n",
              "        -1.58927417e+11,  4.94113519e+10,  1.97541814e+11, -3.10184215e+08,\n",
              "        -3.10184215e+08, -3.10184215e+08,  8.59886875e+10, -3.10184215e+08,\n",
              "         4.36882012e+11,  4.94113519e+10, -3.10184215e+08, -3.10184215e+08,\n",
              "         1.41070146e+12,  1.41070146e+12,  1.41070146e+12,  1.41070146e+12,\n",
              "         1.41070146e+12,  1.41070146e+12,  1.41070146e+12,  1.41070146e+12,\n",
              "        -1.15973151e+11,  2.00916186e+11,  1.57618063e+11,  4.29526174e+11,\n",
              "         2.00032431e+11,  8.21030930e+11, -2.91515743e+11,  4.59597426e+10,\n",
              "         1.91255222e+11, -2.02303120e+11,  1.19666299e+10, -7.47883620e+09,\n",
              "        -2.17984575e+11,  1.98702337e+11,  1.11156686e+11, -7.45398281e+09,\n",
              "         1.84939641e+11, -1.47918153e+11, -5.05629072e+11,  1.61158219e+11,\n",
              "         5.25156091e+10,  1.90395627e+11,  2.21909302e+10, -6.10951182e+11,\n",
              "        -6.10951182e+11,  2.92259435e+11, -1.99213439e+10,  8.78085752e+10,\n",
              "         1.95749546e+11,  1.31982233e+11,  2.02926568e+11, -4.51312187e+10,\n",
              "         1.46116726e+11,  1.32767648e+11,  1.92407819e+11, -5.05629072e+11,\n",
              "         2.12264483e+11, -2.65056792e+11,  1.27598927e+11, -1.77746784e+11,\n",
              "        -1.74458531e+11, -7.94442487e+10,  1.92526499e+11,  1.82081503e+11,\n",
              "         9.28986305e+10,  1.46116726e+11,  1.01934839e+09,  6.84576094e+10,\n",
              "        -1.01206633e+11,  6.69075153e+10,  1.35407838e+11, -9.47004590e+10,\n",
              "         9.38651817e+10,  1.24426159e+11, -1.91303161e+10, -1.29253189e+11,\n",
              "         1.58382153e+11,  3.85886278e+11,  1.46116726e+11,  9.07679140e+10,\n",
              "         5.74883433e+09, -8.98406409e+10, -9.46196028e+10, -3.20640943e+10,\n",
              "         7.68440875e+09,  3.69702876e+09, -4.37941923e+10,  1.04083281e+11,\n",
              "         8.91914793e+09, -1.54063230e+10,  1.44271096e+10,  6.05246300e+10,\n",
              "        -1.90556599e+10,  2.83310464e+11,  3.83920999e+10,  3.39571303e+09,\n",
              "        -1.13508690e+11,  1.79871784e+11, -3.88802404e+10,  4.94511879e+10,\n",
              "        -5.70596973e+10,  8.50232811e+10, -8.85342206e+10,  2.25096274e+11,\n",
              "        -9.52381482e+10,  9.53710742e+10,  5.77530992e+10,  7.29207200e+10,\n",
              "        -3.90512099e+10, -1.42673437e+11, -3.47171714e+10,  1.21810939e+10,\n",
              "        -1.02157472e+10, -8.94892139e+09,  1.98048697e+11, -9.41076201e+09,\n",
              "         8.58205995e+10,  7.64927003e+10,  5.73324553e+10, -3.03213765e+10,\n",
              "         6.80041455e+10,  6.88555944e+10, -3.82004174e+11,  1.07029120e+11,\n",
              "        -1.79436937e+10,  1.85101910e+11,  5.91187741e+11,  1.35132039e+11,\n",
              "        -1.15315116e+09,  7.15684407e+09,  6.89477918e+10, -1.09713831e+11,\n",
              "         6.38496718e+09, -8.37532218e+10, -6.59406665e+10, -8.27440924e+10,\n",
              "         2.19492632e+11, -1.99708118e+10, -2.15147513e+10,  2.01604920e+09,\n",
              "         6.02223886e+10,  8.86084099e+10,  7.39222766e+10, -1.56988116e+10,\n",
              "        -7.82595006e+09,  6.04988074e+10,  9.59008398e+10, -7.60042118e+10,\n",
              "         6.47734027e+10,  5.13151978e+10,  2.43128293e+10, -2.25118536e+09,\n",
              "        -1.07566791e+11, -7.13561328e+10,  1.06255915e+11,  5.74089201e+10,\n",
              "         9.61254024e+10,  8.08872847e+10, -3.08353441e+10, -6.54159197e+10,\n",
              "        -1.86533261e+11, -2.16495121e+11, -1.07214476e+09,  2.04439401e+10,\n",
              "         4.56696230e+09, -5.39003027e+10, -3.09948160e+10,  9.14280938e+10,\n",
              "         4.52294223e+10,  1.04584631e+11,  1.01059432e+11,  4.10993385e+10,\n",
              "         8.20025902e+10, -2.76835631e+09,  4.45508096e+10, -4.45860487e+10,\n",
              "        -5.83336581e+10,  1.53015424e+10,  8.82135119e+09, -1.84707837e+10,\n",
              "        -9.39966063e+10,  2.09636364e+10, -1.69712950e+10, -9.75571758e+08,\n",
              "        -2.93691133e+10,  8.95437621e+10,  2.67012959e+10, -2.63910203e+10,\n",
              "         1.98003401e+11, -6.28606466e+10, -3.95984801e+10, -1.24953828e+10,\n",
              "         4.86885515e+10, -3.88648783e+10, -5.85533478e+10, -1.52662930e+11,\n",
              "        -6.38539279e+10, -1.55803506e+10,  2.11881252e+11,  3.41610253e+10,\n",
              "        -4.60515289e+10, -3.93928500e+09,  8.93302733e+11,  1.04223592e+12,\n",
              "         1.04223592e+12,  8.87176265e+11,  1.12853480e+12,  6.64918551e+11,\n",
              "         5.34239989e+11,  2.32521057e-01,  6.10427856e-02,  4.55345154e-01,\n",
              "         2.66857060e+11, -5.00322772e+10, -5.64556911e+10, -4.27575456e+11,\n",
              "        -1.98081713e+11, -8.19080212e+11,  2.93466461e+11, -4.40090247e+10,\n",
              "         1.18245920e+11,  3.62871071e+11,  2.97534511e+11,  9.42955402e+09,\n",
              "         2.19935293e+11, -4.16919610e+10, -1.09205968e+11,  9.40470063e+09,\n",
              "        -1.82988924e+11,  1.49868871e+11,  5.07579790e+11, -4.14784279e+09,\n",
              "        -5.05648913e+10, -3.33852504e+10,  1.28692978e+11,  5.26603028e+11,\n",
              "        -1.35249059e+11,  1.76931720e+11,  6.92018012e+10, -1.93798829e+11,\n",
              "        -1.30031515e+11, -4.59161913e+10,  4.70819365e+10, -1.44166008e+11,\n",
              "        -1.30816931e+11, -3.53974423e+10,  5.07579790e+11, -2.10313765e+11,\n",
              "         4.22067169e+11,  2.94114494e+10,  1.79697502e+11,  1.76409249e+11,\n",
              "         8.13949665e+10, -3.19585478e+10,  1.27419639e+11, -1.40669449e+11,\n",
              "         9.31369434e+08,  9.21103415e+10,  1.03157350e+11, -1.07749137e+11,\n",
              "         1.94138717e+11,  9.66511768e+10,  2.15635960e+11,  1.91201450e+11,\n",
              "         2.10810339e+10,  1.31203906e+11, -1.37177632e+09,  1.24060373e+11,\n",
              "         6.98000369e+10, -3.79811651e+09,  9.17913587e+10,  9.65703206e+10,\n",
              "         3.40148122e+10, -5.73369093e+09, -1.74631094e+09,  4.57449101e+10,\n",
              "        -1.02132563e+11, -6.96843011e+09,  1.73570408e+10, -1.24763918e+10,\n",
              "        -5.85739122e+10,  2.10063777e+10,  9.59576263e+10,  1.18618276e+11,\n",
              "        -1.44499521e+09,  1.15459408e+11, -2.28614072e+10,  4.08309583e+10,\n",
              "        -4.75004701e+10,  5.90104151e+10, -8.30725633e+10,  4.07634023e+10,\n",
              "        -2.23145556e+11,  9.71888660e+10,  2.14130067e+11, -5.58023814e+10,\n",
              "        -7.09700022e+10,  4.10019277e+10,  8.47493318e+10,  3.66678892e+10,\n",
              "        -1.02303761e+10,  1.21664650e+10,  1.08996392e+10,  1.81219393e+11,\n",
              "        -7.49373919e+10, -8.38698817e+10, -7.45419824e+10, -5.53817375e+10,\n",
              "         3.22720943e+10, -6.60534276e+10, -6.69048766e+10,  3.83954891e+11,\n",
              "         4.38547885e+10,  1.98944116e+10, -2.80915336e+10, -2.75560131e+11,\n",
              "         1.80495571e+11,  3.10386898e+09, -5.20612625e+09, -5.00322772e+10,\n",
              "        -2.23145556e+11,  3.83954891e+11, -4.27575456e+11,  1.24060373e+11,\n",
              "        -6.69970740e+10,  1.11664549e+11, -2.75560131e+11, -4.16919610e+10,\n",
              "         2.10810339e+10,  1.44498941e+11,  8.57039396e+10,  6.78913843e+10,\n",
              "         8.46948102e+10,  1.59775458e+11,  2.19215296e+10,  2.34654691e+10,\n",
              "        -6.53313752e+07, -5.82716708e+10, -8.66576920e+10, -7.19715588e+10,\n",
              "         1.76495294e+10,  9.77666788e+09, -1.44846961e+11, -9.39501219e+10,\n",
              "         7.79549296e+10, -6.28226849e+10, -4.93644799e+10, -2.23621114e+10,\n",
              "         4.20190318e+09,  1.09517509e+11,  7.33068506e+10, -1.04305197e+11,\n",
              "        -5.54582023e+10, -9.41746846e+10, -7.89365669e+10,  3.27860619e+10,\n",
              "         6.73666375e+10,  1.88483978e+11,  2.18445839e+11,  3.02286258e+09,\n",
              "        -6.82147584e+10, -2.61624448e+09, -3.04478512e+10, -5.33533379e+10,\n",
              "        -5.64556911e+10, -4.16919610e+10, -8.94773759e+10,  1.24060373e+11,\n",
              "        -4.32787045e+10,  1.11664549e+11,  3.83954891e+11, -1.02633913e+11,\n",
              "         2.08441709e+11, -3.91486207e+10,  2.33625019e+11,  4.71907413e+09,\n",
              "        -2.75560131e+11,  1.12459567e+11,  4.65367665e+10,  6.02843759e+10,\n",
              "        -1.33508246e+10, -6.87063337e+09,  2.04215016e+10,  9.59473241e+10,\n",
              "        -1.90129186e+10,  1.89220128e+10,  2.92628958e+09,  3.13198312e+10,\n",
              "         7.10241888e+10, -2.47505781e+10, -2.13797979e+10, -1.96052683e+11,\n",
              "         6.48113645e+10,  1.90482388e+11,  1.44461006e+10, -4.67378336e+10,\n",
              "         4.08155961e+10,  6.05040656e+10,  1.54613647e+11,  6.58046457e+10,\n",
              "         1.75310684e+10, -2.09930534e+11, -3.22103075e+10,  4.80022467e+10,\n",
              "         5.89000282e+09]), -2454577919224.4727)"
            ]
          },
          "metadata": {},
          "execution_count": 347
        }
      ]
    },
    {
      "cell_type": "code",
      "source": [
        "plt.plot"
      ],
      "metadata": {
        "id": "TosFjMg3IL7M"
      },
      "execution_count": null,
      "outputs": []
    },
    {
      "cell_type": "code",
      "source": [
        "import sklearn\n",
        "import xgboost\n",
        "import shap\n",
        "from sklearn.model_selection import train_test_split"
      ],
      "metadata": {
        "id": "ajmTpnFWYU1z"
      },
      "execution_count": null,
      "outputs": []
    }
  ]
}