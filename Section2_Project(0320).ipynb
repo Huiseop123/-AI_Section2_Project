{
  "nbformat": 4,
  "nbformat_minor": 0,
  "metadata": {
    "colab": {
      "name": "Section2_Project.ipynb",
      "provenance": [],
      "collapsed_sections": []
    },
    "kernelspec": {
      "name": "python3",
      "display_name": "Python 3"
    },
    "language_info": {
      "name": "python"
    }
  },
  "cells": [
    {
      "cell_type": "code",
      "execution_count": 1,
      "metadata": {
        "id": "vxyqthSpPElJ"
      },
      "outputs": [],
      "source": [
        "column_explain = '/content/drive/MyDrive/Colab Notebooks/Section2_Project/TNM/K-드라마 프로그램 출연진정보 채_컬럼정의서.xlsx'\n",
        "data0_url = '/content/drive/MyDrive/Colab Notebooks/Section2_Project/TNM/TN_K_DRAMA_CST_AUDERT_INFO_202109.csv'\n",
        "data1_url = '/content/drive/MyDrive/Colab Notebooks/Section2_Project/TNM/TN_K_DRAMA_CST_AUDERT_INFO_202110.csv'\n",
        "data2_url = '/content/drive/MyDrive/Colab Notebooks/Section2_Project/TNM/TN_K_DRAMA_CST_AUDERT_INFO_202111.csv'\n",
        "test_url = '/content/drive/MyDrive/Colab Notebooks/Section2_Project/TNM/TN_K_DRAMA_CST_AUDERT_INFO_202112.csv'"
      ]
    },
    {
      "cell_type": "code",
      "source": [
        "# xlsx 파일을 불러오기위해서 xlrd를 최신 버전으로 업그레이드 해준다. #다른 것들도 다 install \n",
        "! pip install --upgrade xlrd\n",
        "! pip install shap\n",
        "! pip install pdpbox\n",
        "! pip install eli5\n",
        "! pip install category_encoders"
      ],
      "metadata": {
        "id": "Rja83gngQL51"
      },
      "execution_count": null,
      "outputs": []
    },
    {
      "cell_type": "code",
      "source": [
        "import pandas as pd\n",
        "import openpyxl\n",
        "import xlrd\n",
        "\n",
        "column_explain = pd.read_excel(column_explain)"
      ],
      "metadata": {
        "id": "hrl6KgC5P5XD"
      },
      "execution_count": 3,
      "outputs": []
    },
    {
      "cell_type": "code",
      "source": [
        "column_explain"
      ],
      "metadata": {
        "colab": {
          "base_uri": "https://localhost:8080/",
          "height": 927
        },
        "id": "METgMXigTHCy",
        "outputId": "5994a285-01c0-4324-9cbf-296a849883df"
      },
      "execution_count": 4,
      "outputs": [
        {
          "output_type": "execute_result",
          "data": {
            "text/plain": [
              "    순서                        컬럼영문명       컬럼한글명    데이터타입    길이 PK여부 NOT NULL여부\n",
              "0    1                    BRDCST_DE        방송일자  VARCHAR     8    Y          Y\n",
              "1    2                BRDCST_END_DE      방송종료일자  VARCHAR     8    Y          Y\n",
              "2    3                    CHNNEL_NM         채널명  VARCHAR   200    Y          Y\n",
              "3    4            PROGRM_BEGIN_TIME    프로그램시작시간  VARCHAR     6    Y          Y\n",
              "4    5              PROGRM_END_TIME    프로그램종료시간  VARCHAR     6    N          Y\n",
              "5    6                    PROGRM_NM       프로그램명  VARCHAR   200    N          Y\n",
              "6    7                    PROGRM_DC      프로그램설명  VARCHAR   500    N          N\n",
              "7    8                BRDCST_TME_NM       방송회차명  VARCHAR   200    N          N\n",
              "8    9        PROGRM_BRDCST_AREA_NM   프로그램방송지역명  VARCHAR   200    N          Y\n",
              "9   10                  BRDCST_TIME        방송시간  VARCHAR     6    N          Y\n",
              "10  11        PROGRM_GENRE_LCLAS_NM  프로그램장르대분류명  VARCHAR   200    N          Y\n",
              "11  12        PROGRM_GENRE_MLSFC_NM  프로그램장르중분류명  VARCHAR   200    N          Y\n",
              "12  13        PROGRM_GENRE_SCLAS_NM  프로그램장르소분류명  VARCHAR   200    N          Y\n",
              "13  14         MALE_4_9YO_WTCHNG_RT   남자4_9세시청율  DECIMAL  28,5    N          Y\n",
              "14  15          MALE_N10S_WTCHNG_RT    남자10대시청율  DECIMAL  28,5    N          Y\n",
              "15  16          MALE_N20S_WTCHNG_RT    남자20대시청율  DECIMAL  28,5    N          Y\n",
              "16  17          MALE_N30S_WTCHNG_RT    남자30대시청율  DECIMAL  28,5    N          Y\n",
              "17  18          MALE_N40S_WTCHNG_RT    남자40대시청율  DECIMAL  28,5    N          Y\n",
              "18  19          MALE_N50S_WTCHNG_RT    남자50대시청율  DECIMAL  28,5    N          Y\n",
              "19  20    MALE_N60S_ABOVE_WTCHNG_RT  남자60대이상시청율  DECIMAL  28,5    N          Y\n",
              "20  21       FEMALE_4_9YO_WTCHNG_RT   여자4_9세시청율  DECIMAL  28,5    N          Y\n",
              "21  22        FEMALE_N10S_WTCHNG_RT    여자10대시청율  DECIMAL  28,5    N          Y\n",
              "22  23        FEMALE_N20S_WTCHNG_RT    여자20대시청율  DECIMAL  28,5    N          Y\n",
              "23  24        FEMALE_N30S_WTCHNG_RT    여자30대시청율  DECIMAL  28,5    N          Y\n",
              "24  25        FEMALE_N40S_WTCHNG_RT    여자40대시청율  DECIMAL  28,5    N          Y\n",
              "25  26        FEMALE_N50S_WTCHNG_RT    여자50대시청율  DECIMAL  28,5    N          Y\n",
              "26  27  FEMALE_N60S_ABOVE_WTCHNG_RT  여자60대이상시청율  DECIMAL  28,5    N          Y\n",
              "27  28                       CST_CN       출연진내용  VARCHAR  1000    N          Y"
            ],
            "text/html": [
              "\n",
              "  <div id=\"df-a0612ec1-62a8-465f-a2c8-1e916e655ae1\">\n",
              "    <div class=\"colab-df-container\">\n",
              "      <div>\n",
              "<style scoped>\n",
              "    .dataframe tbody tr th:only-of-type {\n",
              "        vertical-align: middle;\n",
              "    }\n",
              "\n",
              "    .dataframe tbody tr th {\n",
              "        vertical-align: top;\n",
              "    }\n",
              "\n",
              "    .dataframe thead th {\n",
              "        text-align: right;\n",
              "    }\n",
              "</style>\n",
              "<table border=\"1\" class=\"dataframe\">\n",
              "  <thead>\n",
              "    <tr style=\"text-align: right;\">\n",
              "      <th></th>\n",
              "      <th>순서</th>\n",
              "      <th>컬럼영문명</th>\n",
              "      <th>컬럼한글명</th>\n",
              "      <th>데이터타입</th>\n",
              "      <th>길이</th>\n",
              "      <th>PK여부</th>\n",
              "      <th>NOT NULL여부</th>\n",
              "    </tr>\n",
              "  </thead>\n",
              "  <tbody>\n",
              "    <tr>\n",
              "      <th>0</th>\n",
              "      <td>1</td>\n",
              "      <td>BRDCST_DE</td>\n",
              "      <td>방송일자</td>\n",
              "      <td>VARCHAR</td>\n",
              "      <td>8</td>\n",
              "      <td>Y</td>\n",
              "      <td>Y</td>\n",
              "    </tr>\n",
              "    <tr>\n",
              "      <th>1</th>\n",
              "      <td>2</td>\n",
              "      <td>BRDCST_END_DE</td>\n",
              "      <td>방송종료일자</td>\n",
              "      <td>VARCHAR</td>\n",
              "      <td>8</td>\n",
              "      <td>Y</td>\n",
              "      <td>Y</td>\n",
              "    </tr>\n",
              "    <tr>\n",
              "      <th>2</th>\n",
              "      <td>3</td>\n",
              "      <td>CHNNEL_NM</td>\n",
              "      <td>채널명</td>\n",
              "      <td>VARCHAR</td>\n",
              "      <td>200</td>\n",
              "      <td>Y</td>\n",
              "      <td>Y</td>\n",
              "    </tr>\n",
              "    <tr>\n",
              "      <th>3</th>\n",
              "      <td>4</td>\n",
              "      <td>PROGRM_BEGIN_TIME</td>\n",
              "      <td>프로그램시작시간</td>\n",
              "      <td>VARCHAR</td>\n",
              "      <td>6</td>\n",
              "      <td>Y</td>\n",
              "      <td>Y</td>\n",
              "    </tr>\n",
              "    <tr>\n",
              "      <th>4</th>\n",
              "      <td>5</td>\n",
              "      <td>PROGRM_END_TIME</td>\n",
              "      <td>프로그램종료시간</td>\n",
              "      <td>VARCHAR</td>\n",
              "      <td>6</td>\n",
              "      <td>N</td>\n",
              "      <td>Y</td>\n",
              "    </tr>\n",
              "    <tr>\n",
              "      <th>5</th>\n",
              "      <td>6</td>\n",
              "      <td>PROGRM_NM</td>\n",
              "      <td>프로그램명</td>\n",
              "      <td>VARCHAR</td>\n",
              "      <td>200</td>\n",
              "      <td>N</td>\n",
              "      <td>Y</td>\n",
              "    </tr>\n",
              "    <tr>\n",
              "      <th>6</th>\n",
              "      <td>7</td>\n",
              "      <td>PROGRM_DC</td>\n",
              "      <td>프로그램설명</td>\n",
              "      <td>VARCHAR</td>\n",
              "      <td>500</td>\n",
              "      <td>N</td>\n",
              "      <td>N</td>\n",
              "    </tr>\n",
              "    <tr>\n",
              "      <th>7</th>\n",
              "      <td>8</td>\n",
              "      <td>BRDCST_TME_NM</td>\n",
              "      <td>방송회차명</td>\n",
              "      <td>VARCHAR</td>\n",
              "      <td>200</td>\n",
              "      <td>N</td>\n",
              "      <td>N</td>\n",
              "    </tr>\n",
              "    <tr>\n",
              "      <th>8</th>\n",
              "      <td>9</td>\n",
              "      <td>PROGRM_BRDCST_AREA_NM</td>\n",
              "      <td>프로그램방송지역명</td>\n",
              "      <td>VARCHAR</td>\n",
              "      <td>200</td>\n",
              "      <td>N</td>\n",
              "      <td>Y</td>\n",
              "    </tr>\n",
              "    <tr>\n",
              "      <th>9</th>\n",
              "      <td>10</td>\n",
              "      <td>BRDCST_TIME</td>\n",
              "      <td>방송시간</td>\n",
              "      <td>VARCHAR</td>\n",
              "      <td>6</td>\n",
              "      <td>N</td>\n",
              "      <td>Y</td>\n",
              "    </tr>\n",
              "    <tr>\n",
              "      <th>10</th>\n",
              "      <td>11</td>\n",
              "      <td>PROGRM_GENRE_LCLAS_NM</td>\n",
              "      <td>프로그램장르대분류명</td>\n",
              "      <td>VARCHAR</td>\n",
              "      <td>200</td>\n",
              "      <td>N</td>\n",
              "      <td>Y</td>\n",
              "    </tr>\n",
              "    <tr>\n",
              "      <th>11</th>\n",
              "      <td>12</td>\n",
              "      <td>PROGRM_GENRE_MLSFC_NM</td>\n",
              "      <td>프로그램장르중분류명</td>\n",
              "      <td>VARCHAR</td>\n",
              "      <td>200</td>\n",
              "      <td>N</td>\n",
              "      <td>Y</td>\n",
              "    </tr>\n",
              "    <tr>\n",
              "      <th>12</th>\n",
              "      <td>13</td>\n",
              "      <td>PROGRM_GENRE_SCLAS_NM</td>\n",
              "      <td>프로그램장르소분류명</td>\n",
              "      <td>VARCHAR</td>\n",
              "      <td>200</td>\n",
              "      <td>N</td>\n",
              "      <td>Y</td>\n",
              "    </tr>\n",
              "    <tr>\n",
              "      <th>13</th>\n",
              "      <td>14</td>\n",
              "      <td>MALE_4_9YO_WTCHNG_RT</td>\n",
              "      <td>남자4_9세시청율</td>\n",
              "      <td>DECIMAL</td>\n",
              "      <td>28,5</td>\n",
              "      <td>N</td>\n",
              "      <td>Y</td>\n",
              "    </tr>\n",
              "    <tr>\n",
              "      <th>14</th>\n",
              "      <td>15</td>\n",
              "      <td>MALE_N10S_WTCHNG_RT</td>\n",
              "      <td>남자10대시청율</td>\n",
              "      <td>DECIMAL</td>\n",
              "      <td>28,5</td>\n",
              "      <td>N</td>\n",
              "      <td>Y</td>\n",
              "    </tr>\n",
              "    <tr>\n",
              "      <th>15</th>\n",
              "      <td>16</td>\n",
              "      <td>MALE_N20S_WTCHNG_RT</td>\n",
              "      <td>남자20대시청율</td>\n",
              "      <td>DECIMAL</td>\n",
              "      <td>28,5</td>\n",
              "      <td>N</td>\n",
              "      <td>Y</td>\n",
              "    </tr>\n",
              "    <tr>\n",
              "      <th>16</th>\n",
              "      <td>17</td>\n",
              "      <td>MALE_N30S_WTCHNG_RT</td>\n",
              "      <td>남자30대시청율</td>\n",
              "      <td>DECIMAL</td>\n",
              "      <td>28,5</td>\n",
              "      <td>N</td>\n",
              "      <td>Y</td>\n",
              "    </tr>\n",
              "    <tr>\n",
              "      <th>17</th>\n",
              "      <td>18</td>\n",
              "      <td>MALE_N40S_WTCHNG_RT</td>\n",
              "      <td>남자40대시청율</td>\n",
              "      <td>DECIMAL</td>\n",
              "      <td>28,5</td>\n",
              "      <td>N</td>\n",
              "      <td>Y</td>\n",
              "    </tr>\n",
              "    <tr>\n",
              "      <th>18</th>\n",
              "      <td>19</td>\n",
              "      <td>MALE_N50S_WTCHNG_RT</td>\n",
              "      <td>남자50대시청율</td>\n",
              "      <td>DECIMAL</td>\n",
              "      <td>28,5</td>\n",
              "      <td>N</td>\n",
              "      <td>Y</td>\n",
              "    </tr>\n",
              "    <tr>\n",
              "      <th>19</th>\n",
              "      <td>20</td>\n",
              "      <td>MALE_N60S_ABOVE_WTCHNG_RT</td>\n",
              "      <td>남자60대이상시청율</td>\n",
              "      <td>DECIMAL</td>\n",
              "      <td>28,5</td>\n",
              "      <td>N</td>\n",
              "      <td>Y</td>\n",
              "    </tr>\n",
              "    <tr>\n",
              "      <th>20</th>\n",
              "      <td>21</td>\n",
              "      <td>FEMALE_4_9YO_WTCHNG_RT</td>\n",
              "      <td>여자4_9세시청율</td>\n",
              "      <td>DECIMAL</td>\n",
              "      <td>28,5</td>\n",
              "      <td>N</td>\n",
              "      <td>Y</td>\n",
              "    </tr>\n",
              "    <tr>\n",
              "      <th>21</th>\n",
              "      <td>22</td>\n",
              "      <td>FEMALE_N10S_WTCHNG_RT</td>\n",
              "      <td>여자10대시청율</td>\n",
              "      <td>DECIMAL</td>\n",
              "      <td>28,5</td>\n",
              "      <td>N</td>\n",
              "      <td>Y</td>\n",
              "    </tr>\n",
              "    <tr>\n",
              "      <th>22</th>\n",
              "      <td>23</td>\n",
              "      <td>FEMALE_N20S_WTCHNG_RT</td>\n",
              "      <td>여자20대시청율</td>\n",
              "      <td>DECIMAL</td>\n",
              "      <td>28,5</td>\n",
              "      <td>N</td>\n",
              "      <td>Y</td>\n",
              "    </tr>\n",
              "    <tr>\n",
              "      <th>23</th>\n",
              "      <td>24</td>\n",
              "      <td>FEMALE_N30S_WTCHNG_RT</td>\n",
              "      <td>여자30대시청율</td>\n",
              "      <td>DECIMAL</td>\n",
              "      <td>28,5</td>\n",
              "      <td>N</td>\n",
              "      <td>Y</td>\n",
              "    </tr>\n",
              "    <tr>\n",
              "      <th>24</th>\n",
              "      <td>25</td>\n",
              "      <td>FEMALE_N40S_WTCHNG_RT</td>\n",
              "      <td>여자40대시청율</td>\n",
              "      <td>DECIMAL</td>\n",
              "      <td>28,5</td>\n",
              "      <td>N</td>\n",
              "      <td>Y</td>\n",
              "    </tr>\n",
              "    <tr>\n",
              "      <th>25</th>\n",
              "      <td>26</td>\n",
              "      <td>FEMALE_N50S_WTCHNG_RT</td>\n",
              "      <td>여자50대시청율</td>\n",
              "      <td>DECIMAL</td>\n",
              "      <td>28,5</td>\n",
              "      <td>N</td>\n",
              "      <td>Y</td>\n",
              "    </tr>\n",
              "    <tr>\n",
              "      <th>26</th>\n",
              "      <td>27</td>\n",
              "      <td>FEMALE_N60S_ABOVE_WTCHNG_RT</td>\n",
              "      <td>여자60대이상시청율</td>\n",
              "      <td>DECIMAL</td>\n",
              "      <td>28,5</td>\n",
              "      <td>N</td>\n",
              "      <td>Y</td>\n",
              "    </tr>\n",
              "    <tr>\n",
              "      <th>27</th>\n",
              "      <td>28</td>\n",
              "      <td>CST_CN</td>\n",
              "      <td>출연진내용</td>\n",
              "      <td>VARCHAR</td>\n",
              "      <td>1000</td>\n",
              "      <td>N</td>\n",
              "      <td>Y</td>\n",
              "    </tr>\n",
              "  </tbody>\n",
              "</table>\n",
              "</div>\n",
              "      <button class=\"colab-df-convert\" onclick=\"convertToInteractive('df-a0612ec1-62a8-465f-a2c8-1e916e655ae1')\"\n",
              "              title=\"Convert this dataframe to an interactive table.\"\n",
              "              style=\"display:none;\">\n",
              "        \n",
              "  <svg xmlns=\"http://www.w3.org/2000/svg\" height=\"24px\"viewBox=\"0 0 24 24\"\n",
              "       width=\"24px\">\n",
              "    <path d=\"M0 0h24v24H0V0z\" fill=\"none\"/>\n",
              "    <path d=\"M18.56 5.44l.94 2.06.94-2.06 2.06-.94-2.06-.94-.94-2.06-.94 2.06-2.06.94zm-11 1L8.5 8.5l.94-2.06 2.06-.94-2.06-.94L8.5 2.5l-.94 2.06-2.06.94zm10 10l.94 2.06.94-2.06 2.06-.94-2.06-.94-.94-2.06-.94 2.06-2.06.94z\"/><path d=\"M17.41 7.96l-1.37-1.37c-.4-.4-.92-.59-1.43-.59-.52 0-1.04.2-1.43.59L10.3 9.45l-7.72 7.72c-.78.78-.78 2.05 0 2.83L4 21.41c.39.39.9.59 1.41.59.51 0 1.02-.2 1.41-.59l7.78-7.78 2.81-2.81c.8-.78.8-2.07 0-2.86zM5.41 20L4 18.59l7.72-7.72 1.47 1.35L5.41 20z\"/>\n",
              "  </svg>\n",
              "      </button>\n",
              "      \n",
              "  <style>\n",
              "    .colab-df-container {\n",
              "      display:flex;\n",
              "      flex-wrap:wrap;\n",
              "      gap: 12px;\n",
              "    }\n",
              "\n",
              "    .colab-df-convert {\n",
              "      background-color: #E8F0FE;\n",
              "      border: none;\n",
              "      border-radius: 50%;\n",
              "      cursor: pointer;\n",
              "      display: none;\n",
              "      fill: #1967D2;\n",
              "      height: 32px;\n",
              "      padding: 0 0 0 0;\n",
              "      width: 32px;\n",
              "    }\n",
              "\n",
              "    .colab-df-convert:hover {\n",
              "      background-color: #E2EBFA;\n",
              "      box-shadow: 0px 1px 2px rgba(60, 64, 67, 0.3), 0px 1px 3px 1px rgba(60, 64, 67, 0.15);\n",
              "      fill: #174EA6;\n",
              "    }\n",
              "\n",
              "    [theme=dark] .colab-df-convert {\n",
              "      background-color: #3B4455;\n",
              "      fill: #D2E3FC;\n",
              "    }\n",
              "\n",
              "    [theme=dark] .colab-df-convert:hover {\n",
              "      background-color: #434B5C;\n",
              "      box-shadow: 0px 1px 3px 1px rgba(0, 0, 0, 0.15);\n",
              "      filter: drop-shadow(0px 1px 2px rgba(0, 0, 0, 0.3));\n",
              "      fill: #FFFFFF;\n",
              "    }\n",
              "  </style>\n",
              "\n",
              "      <script>\n",
              "        const buttonEl =\n",
              "          document.querySelector('#df-a0612ec1-62a8-465f-a2c8-1e916e655ae1 button.colab-df-convert');\n",
              "        buttonEl.style.display =\n",
              "          google.colab.kernel.accessAllowed ? 'block' : 'none';\n",
              "\n",
              "        async function convertToInteractive(key) {\n",
              "          const element = document.querySelector('#df-a0612ec1-62a8-465f-a2c8-1e916e655ae1');\n",
              "          const dataTable =\n",
              "            await google.colab.kernel.invokeFunction('convertToInteractive',\n",
              "                                                     [key], {});\n",
              "          if (!dataTable) return;\n",
              "\n",
              "          const docLinkHtml = 'Like what you see? Visit the ' +\n",
              "            '<a target=\"_blank\" href=https://colab.research.google.com/notebooks/data_table.ipynb>data table notebook</a>'\n",
              "            + ' to learn more about interactive tables.';\n",
              "          element.innerHTML = '';\n",
              "          dataTable['output_type'] = 'display_data';\n",
              "          await google.colab.output.renderOutput(dataTable, element);\n",
              "          const docLink = document.createElement('div');\n",
              "          docLink.innerHTML = docLinkHtml;\n",
              "          element.appendChild(docLink);\n",
              "        }\n",
              "      </script>\n",
              "    </div>\n",
              "  </div>\n",
              "  "
            ]
          },
          "metadata": {},
          "execution_count": 4
        }
      ]
    },
    {
      "cell_type": "code",
      "source": [
        "df0 = pd.read_csv(data0_url)\n",
        "df0.info(), df0.head()\n",
        "## 전체 4509"
      ],
      "metadata": {
        "id": "aCMtkvXDdW2c",
        "colab": {
          "base_uri": "https://localhost:8080/"
        },
        "outputId": "a4a97238-f6b6-47ce-a6da-86c717f47132"
      },
      "execution_count": 5,
      "outputs": [
        {
          "output_type": "stream",
          "name": "stdout",
          "text": [
            "<class 'pandas.core.frame.DataFrame'>\n",
            "RangeIndex: 4509 entries, 0 to 4508\n",
            "Data columns (total 28 columns):\n",
            " #   Column                       Non-Null Count  Dtype  \n",
            "---  ------                       --------------  -----  \n",
            " 0   BRDCST_DE                    4509 non-null   int64  \n",
            " 1   BRDCST_END_DE                4509 non-null   int64  \n",
            " 2   CHNNEL_NM                    4509 non-null   object \n",
            " 3   PROGRM_BEGIN_TIME            4509 non-null   int64  \n",
            " 4   PROGRM_END_TIME              4509 non-null   int64  \n",
            " 5   PROGRM_NM                    4509 non-null   object \n",
            " 6   PROGRM_DC                    33 non-null     object \n",
            " 7   BRDCST_TME_NM                4487 non-null   object \n",
            " 8   PROGRM_BRDCST_AREA_NM        4509 non-null   object \n",
            " 9   BRDCST_TIME                  4509 non-null   int64  \n",
            " 10  PROGRM_GENRE_LCLAS_NM        4509 non-null   object \n",
            " 11  PROGRM_GENRE_MLSFC_NM        4509 non-null   object \n",
            " 12  PROGRM_GENRE_SCLAS_NM        4509 non-null   object \n",
            " 13  MALE_4_9YO_WTCHNG_RT         4509 non-null   float64\n",
            " 14  MALE_N10S_WTCHNG_RT          4509 non-null   float64\n",
            " 15  MALE_N20S_WTCHNG_RT          4509 non-null   float64\n",
            " 16  MALE_N30S_WTCHNG_RT          4509 non-null   float64\n",
            " 17  MALE_N40S_WTCHNG_RT          4509 non-null   float64\n",
            " 18  MALE_N50S_WTCHNG_RT          4509 non-null   float64\n",
            " 19  MALE_N60S_ABOVE_WTCHNG_RT    4509 non-null   float64\n",
            " 20  FEMALE_4_9YO_WTCHNG_RT       4509 non-null   float64\n",
            " 21  FEMALE_N10S_WTCHNG_RT        4509 non-null   float64\n",
            " 22  FEMALE_N20S_WTCHNG_RT        4509 non-null   float64\n",
            " 23  FEMALE_N30S_WTCHNG_RT        4509 non-null   float64\n",
            " 24  FEMALE_N40S_WTCHNG_RT        4509 non-null   float64\n",
            " 25  FEMALE_N50S_WTCHNG_RT        4509 non-null   float64\n",
            " 26  FEMALE_N60S_ABOVE_WTCHNG_RT  4509 non-null   float64\n",
            " 27  CST_CN                       4509 non-null   object \n",
            "dtypes: float64(14), int64(5), object(9)\n",
            "memory usage: 986.5+ KB\n"
          ]
        },
        {
          "output_type": "execute_result",
          "data": {
            "text/plain": [
              "(None,\n",
              "    BRDCST_DE  BRDCST_END_DE CHNNEL_NM  PROGRM_BEGIN_TIME  PROGRM_END_TIME  \\\n",
              " 0   20210901       20210901      KBS1             203112           205919   \n",
              " 1   20210901       20210901      KBS2              92259            95100   \n",
              " 2   20210901       20210901      KBS2             195053           202630   \n",
              " 3   20210901       20210901       MBC              85223            92144   \n",
              " 4   20210901       20210901       MBC             190240           193206   \n",
              " \n",
              "   PROGRM_NM PROGRM_DC BRDCST_TME_NM PROGRM_BRDCST_AREA_NM  BRDCST_TIME  ...  \\\n",
              " 0     속아도꿈결       NaN           98회                    전국         2807  ...   \n",
              " 1     속아도꿈결       NaN           97회                    전국         2801  ...   \n",
              " 2      빨강구두       NaN           32회                    전국         3537  ...   \n",
              " 3     두번째남편       NaN           16회                    전국         2921  ...   \n",
              " 4     두번째남편       NaN           17회                    전국         2926  ...   \n",
              " \n",
              "   MALE_N50S_WTCHNG_RT MALE_N60S_ABOVE_WTCHNG_RT FEMALE_4_9YO_WTCHNG_RT  \\\n",
              " 0             5.78830                  17.46663                1.01454   \n",
              " 1             1.97050                   1.25558                0.00000   \n",
              " 2             6.81132                  18.65608                2.94364   \n",
              " 3             1.58663                   1.24675                0.20506   \n",
              " 4             1.79500                   5.27036                0.17365   \n",
              " \n",
              "    FEMALE_N10S_WTCHNG_RT  FEMALE_N20S_WTCHNG_RT  FEMALE_N30S_WTCHNG_RT  \\\n",
              " 0                1.30062                1.51997                3.11875   \n",
              " 1                0.55388                0.33854                0.13986   \n",
              " 2                2.28178                2.07667                4.97292   \n",
              " 3                0.83963                0.20008                0.78139   \n",
              " 4                0.79180                0.41742                1.87828   \n",
              " \n",
              "    FEMALE_N40S_WTCHNG_RT  FEMALE_N50S_WTCHNG_RT  FEMALE_N60S_ABOVE_WTCHNG_RT  \\\n",
              " 0                4.55390               12.46363                     18.90274   \n",
              " 1                0.56691                2.02778                      1.94509   \n",
              " 2                4.92582               14.83816                     22.40254   \n",
              " 3                0.97325                1.14983                      1.78425   \n",
              " 4                1.31816                4.54236                      5.83274   \n",
              " \n",
              "                                               CST_CN  \n",
              " 0  금종화역:최정우,강모란역:박준금,금상백역:류진,인영혜역:박탐희,금상구역:임형준,오민...  \n",
              " 1  금종화역:최정우,강모란역:박준금,금상백역:류진,인영혜역:박탐희,금상구역:임형준,오민...  \n",
              " 2  민희경역:최명길,김진아역:소이현,윤기석역:박윤재,윤현석역:신정윤,권혜빈역:정유민,권...  \n",
              " 3  봉선화역:엄현경,윤재민역:차서원,윤재경역:오승아,문상혁역:한기웅,주해란역:지수원,윤...  \n",
              " 4  봉선화역:엄현경,윤재민역:차서원,윤재경역:오승아,문상혁역:한기웅,주해란역:지수원,윤...  \n",
              " \n",
              " [5 rows x 28 columns])"
            ]
          },
          "metadata": {},
          "execution_count": 5
        }
      ]
    },
    {
      "cell_type": "code",
      "source": [
        "df1 = pd.read_csv(data1_url)\n",
        "df1.info(), df1.head()\n",
        "## 전체 4819\n",
        "df1['BRDCST_DE'].unique()"
      ],
      "metadata": {
        "id": "IWYj8c3lSFef",
        "colab": {
          "base_uri": "https://localhost:8080/"
        },
        "outputId": "5f36667b-6b7b-48bc-876f-b934b828cace"
      },
      "execution_count": 6,
      "outputs": [
        {
          "output_type": "stream",
          "name": "stdout",
          "text": [
            "<class 'pandas.core.frame.DataFrame'>\n",
            "RangeIndex: 4819 entries, 0 to 4818\n",
            "Data columns (total 28 columns):\n",
            " #   Column                       Non-Null Count  Dtype  \n",
            "---  ------                       --------------  -----  \n",
            " 0   BRDCST_DE                    4819 non-null   int64  \n",
            " 1   BRDCST_END_DE                4819 non-null   int64  \n",
            " 2   CHNNEL_NM                    4819 non-null   object \n",
            " 3   PROGRM_BEGIN_TIME            4819 non-null   int64  \n",
            " 4   PROGRM_END_TIME              4819 non-null   int64  \n",
            " 5   PROGRM_NM                    4819 non-null   object \n",
            " 6   PROGRM_DC                    89 non-null     object \n",
            " 7   BRDCST_TME_NM                4799 non-null   object \n",
            " 8   PROGRM_BRDCST_AREA_NM        4819 non-null   object \n",
            " 9   BRDCST_TIME                  4819 non-null   int64  \n",
            " 10  PROGRM_GENRE_LCLAS_NM        4819 non-null   object \n",
            " 11  PROGRM_GENRE_MLSFC_NM        4819 non-null   object \n",
            " 12  PROGRM_GENRE_SCLAS_NM        4819 non-null   object \n",
            " 13  MALE_4_9YO_WTCHNG_RT         4819 non-null   float64\n",
            " 14  MALE_N10S_WTCHNG_RT          4819 non-null   float64\n",
            " 15  MALE_N20S_WTCHNG_RT          4819 non-null   float64\n",
            " 16  MALE_N30S_WTCHNG_RT          4819 non-null   float64\n",
            " 17  MALE_N40S_WTCHNG_RT          4819 non-null   float64\n",
            " 18  MALE_N50S_WTCHNG_RT          4819 non-null   float64\n",
            " 19  MALE_N60S_ABOVE_WTCHNG_RT    4819 non-null   float64\n",
            " 20  FEMALE_4_9YO_WTCHNG_RT       4819 non-null   float64\n",
            " 21  FEMALE_N10S_WTCHNG_RT        4819 non-null   float64\n",
            " 22  FEMALE_N20S_WTCHNG_RT        4819 non-null   float64\n",
            " 23  FEMALE_N30S_WTCHNG_RT        4819 non-null   float64\n",
            " 24  FEMALE_N40S_WTCHNG_RT        4819 non-null   float64\n",
            " 25  FEMALE_N50S_WTCHNG_RT        4819 non-null   float64\n",
            " 26  FEMALE_N60S_ABOVE_WTCHNG_RT  4819 non-null   float64\n",
            " 27  CST_CN                       4819 non-null   object \n",
            "dtypes: float64(14), int64(5), object(9)\n",
            "memory usage: 1.0+ MB\n"
          ]
        },
        {
          "output_type": "execute_result",
          "data": {
            "text/plain": [
              "array([20211001, 20211002, 20211003, 20211004, 20211005, 20211006,\n",
              "       20211007, 20211008, 20211009, 20211010, 20211011, 20211012,\n",
              "       20211013, 20211014, 20211015, 20211016, 20211017, 20211018,\n",
              "       20211019, 20211020, 20211021, 20211022, 20211023, 20211024,\n",
              "       20211025, 20211026, 20211027, 20211028, 20211029, 20211030,\n",
              "       20211031, 20211101])"
            ]
          },
          "metadata": {},
          "execution_count": 6
        }
      ]
    },
    {
      "cell_type": "code",
      "source": [
        "df2 = pd.read_csv(data2_url)\n",
        "df2.info(), df2.head()\n",
        "## 전체 4711\n",
        "df2['BRDCST_DE'].unique()"
      ],
      "metadata": {
        "id": "8-t4nL1BSJth",
        "colab": {
          "base_uri": "https://localhost:8080/"
        },
        "outputId": "d6755e34-414c-4d9d-d4ef-dc9c502a524b"
      },
      "execution_count": 7,
      "outputs": [
        {
          "output_type": "stream",
          "name": "stdout",
          "text": [
            "<class 'pandas.core.frame.DataFrame'>\n",
            "RangeIndex: 4711 entries, 0 to 4710\n",
            "Data columns (total 28 columns):\n",
            " #   Column                       Non-Null Count  Dtype  \n",
            "---  ------                       --------------  -----  \n",
            " 0   BRDCST_DE                    4711 non-null   int64  \n",
            " 1   BRDCST_END_DE                4711 non-null   int64  \n",
            " 2   CHNNEL_NM                    4711 non-null   object \n",
            " 3   PROGRM_BEGIN_TIME            4711 non-null   int64  \n",
            " 4   PROGRM_END_TIME              4711 non-null   int64  \n",
            " 5   PROGRM_NM                    4711 non-null   object \n",
            " 6   PROGRM_DC                    46 non-null     object \n",
            " 7   BRDCST_TME_NM                4680 non-null   object \n",
            " 8   PROGRM_BRDCST_AREA_NM        4711 non-null   object \n",
            " 9   BRDCST_TIME                  4711 non-null   int64  \n",
            " 10  PROGRM_GENRE_LCLAS_NM        4711 non-null   object \n",
            " 11  PROGRM_GENRE_MLSFC_NM        4711 non-null   object \n",
            " 12  PROGRM_GENRE_SCLAS_NM        4711 non-null   object \n",
            " 13  MALE_4_9YO_WTCHNG_RT         4711 non-null   float64\n",
            " 14  MALE_N10S_WTCHNG_RT          4711 non-null   float64\n",
            " 15  MALE_N20S_WTCHNG_RT          4711 non-null   float64\n",
            " 16  MALE_N30S_WTCHNG_RT          4711 non-null   float64\n",
            " 17  MALE_N40S_WTCHNG_RT          4711 non-null   float64\n",
            " 18  MALE_N50S_WTCHNG_RT          4711 non-null   float64\n",
            " 19  MALE_N60S_ABOVE_WTCHNG_RT    4711 non-null   float64\n",
            " 20  FEMALE_4_9YO_WTCHNG_RT       4711 non-null   float64\n",
            " 21  FEMALE_N10S_WTCHNG_RT        4711 non-null   float64\n",
            " 22  FEMALE_N20S_WTCHNG_RT        4711 non-null   float64\n",
            " 23  FEMALE_N30S_WTCHNG_RT        4711 non-null   float64\n",
            " 24  FEMALE_N40S_WTCHNG_RT        4711 non-null   float64\n",
            " 25  FEMALE_N50S_WTCHNG_RT        4711 non-null   float64\n",
            " 26  FEMALE_N60S_ABOVE_WTCHNG_RT  4711 non-null   float64\n",
            " 27  CST_CN                       4711 non-null   object \n",
            "dtypes: float64(14), int64(5), object(9)\n",
            "memory usage: 1.0+ MB\n"
          ]
        },
        {
          "output_type": "execute_result",
          "data": {
            "text/plain": [
              "array([20211101, 20211102, 20211103, 20211104, 20211105, 20211106,\n",
              "       20211107, 20211108, 20211109, 20211110, 20211111, 20211112,\n",
              "       20211113, 20211114, 20211115, 20211116, 20211117, 20211118,\n",
              "       20211119, 20211120, 20211121, 20211122, 20211123, 20211124,\n",
              "       20211125, 20211126, 20211127, 20211128, 20211129, 20211130,\n",
              "       20211201])"
            ]
          },
          "metadata": {},
          "execution_count": 7
        }
      ]
    },
    {
      "cell_type": "code",
      "source": [
        "test = pd.read_csv(test_url)\n",
        "test.info(), test.head()\n",
        "## 전체 5315\n",
        "test['BRDCST_DE'].unique()"
      ],
      "metadata": {
        "id": "1sULmz8LTmyF",
        "colab": {
          "base_uri": "https://localhost:8080/"
        },
        "outputId": "35bce936-ea79-43f2-b19d-02c24dd8977a"
      },
      "execution_count": 8,
      "outputs": [
        {
          "output_type": "stream",
          "name": "stdout",
          "text": [
            "<class 'pandas.core.frame.DataFrame'>\n",
            "RangeIndex: 5315 entries, 0 to 5314\n",
            "Data columns (total 28 columns):\n",
            " #   Column                       Non-Null Count  Dtype  \n",
            "---  ------                       --------------  -----  \n",
            " 0   BRDCST_DE                    5315 non-null   int64  \n",
            " 1   BRDCST_END_DE                5315 non-null   int64  \n",
            " 2   CHNNEL_NM                    5315 non-null   object \n",
            " 3   PROGRM_BEGIN_TIME            5315 non-null   int64  \n",
            " 4   PROGRM_END_TIME              5315 non-null   int64  \n",
            " 5   PROGRM_NM                    5315 non-null   object \n",
            " 6   PROGRM_DC                    71 non-null     object \n",
            " 7   BRDCST_TME_NM                5298 non-null   object \n",
            " 8   PROGRM_BRDCST_AREA_NM        5315 non-null   object \n",
            " 9   BRDCST_TIME                  5315 non-null   int64  \n",
            " 10  PROGRM_GENRE_LCLAS_NM        5315 non-null   object \n",
            " 11  PROGRM_GENRE_MLSFC_NM        5315 non-null   object \n",
            " 12  PROGRM_GENRE_SCLAS_NM        5315 non-null   object \n",
            " 13  MALE_4_9YO_WTCHNG_RT         5315 non-null   float64\n",
            " 14  MALE_N10S_WTCHNG_RT          5315 non-null   float64\n",
            " 15  MALE_N20S_WTCHNG_RT          5315 non-null   float64\n",
            " 16  MALE_N30S_WTCHNG_RT          5315 non-null   float64\n",
            " 17  MALE_N40S_WTCHNG_RT          5315 non-null   float64\n",
            " 18  MALE_N50S_WTCHNG_RT          5315 non-null   float64\n",
            " 19  MALE_N60S_ABOVE_WTCHNG_RT    5315 non-null   float64\n",
            " 20  FEMALE_4_9YO_WTCHNG_RT       5315 non-null   float64\n",
            " 21  FEMALE_N10S_WTCHNG_RT        5315 non-null   float64\n",
            " 22  FEMALE_N20S_WTCHNG_RT        5315 non-null   float64\n",
            " 23  FEMALE_N30S_WTCHNG_RT        5315 non-null   float64\n",
            " 24  FEMALE_N40S_WTCHNG_RT        5315 non-null   float64\n",
            " 25  FEMALE_N50S_WTCHNG_RT        5315 non-null   float64\n",
            " 26  FEMALE_N60S_ABOVE_WTCHNG_RT  5315 non-null   float64\n",
            " 27  CST_CN                       5315 non-null   object \n",
            "dtypes: float64(14), int64(5), object(9)\n",
            "memory usage: 1.1+ MB\n"
          ]
        },
        {
          "output_type": "execute_result",
          "data": {
            "text/plain": [
              "array([20211201, 20211202, 20211203, 20211204, 20211205, 20211206,\n",
              "       20211207, 20211208, 20211209, 20211210, 20211211, 20211212,\n",
              "       20211213, 20211214, 20211215, 20211216, 20211217, 20211218,\n",
              "       20211219, 20211220, 20211221, 20211222, 20211223, 20211224,\n",
              "       20211225, 20211226, 20211227, 20211228, 20211229, 20211230,\n",
              "       20211231, 20220101])"
            ]
          },
          "metadata": {},
          "execution_count": 8
        }
      ]
    },
    {
      "cell_type": "code",
      "source": [
        "# df0, df1, df2 모두 9, 10, 11월 값. test는 12월 값\n",
        "# concat으로 합친 후, 중복 값 확인. \n",
        "df = pd.concat([df0, df1, df2], ignore_index = True)\n",
        "df_ori = pd.concat([df0, df1, df2], ignore_index = True)"
      ],
      "metadata": {
        "id": "MElmgHjaUSvl"
      },
      "execution_count": 9,
      "outputs": []
    },
    {
      "cell_type": "code",
      "source": [
        "print(len(df) == len(df1) + len(df2) + len(df0)) #정상적으로 합쳐짐.\n",
        "df.info()"
      ],
      "metadata": {
        "colab": {
          "base_uri": "https://localhost:8080/"
        },
        "id": "RgmqFVPgU7WP",
        "outputId": "8b2b2797-9595-4b97-9cbd-1150bae70088"
      },
      "execution_count": 10,
      "outputs": [
        {
          "output_type": "stream",
          "name": "stdout",
          "text": [
            "True\n",
            "<class 'pandas.core.frame.DataFrame'>\n",
            "RangeIndex: 14039 entries, 0 to 14038\n",
            "Data columns (total 28 columns):\n",
            " #   Column                       Non-Null Count  Dtype  \n",
            "---  ------                       --------------  -----  \n",
            " 0   BRDCST_DE                    14039 non-null  int64  \n",
            " 1   BRDCST_END_DE                14039 non-null  int64  \n",
            " 2   CHNNEL_NM                    14039 non-null  object \n",
            " 3   PROGRM_BEGIN_TIME            14039 non-null  int64  \n",
            " 4   PROGRM_END_TIME              14039 non-null  int64  \n",
            " 5   PROGRM_NM                    14039 non-null  object \n",
            " 6   PROGRM_DC                    168 non-null    object \n",
            " 7   BRDCST_TME_NM                13966 non-null  object \n",
            " 8   PROGRM_BRDCST_AREA_NM        14039 non-null  object \n",
            " 9   BRDCST_TIME                  14039 non-null  int64  \n",
            " 10  PROGRM_GENRE_LCLAS_NM        14039 non-null  object \n",
            " 11  PROGRM_GENRE_MLSFC_NM        14039 non-null  object \n",
            " 12  PROGRM_GENRE_SCLAS_NM        14039 non-null  object \n",
            " 13  MALE_4_9YO_WTCHNG_RT         14039 non-null  float64\n",
            " 14  MALE_N10S_WTCHNG_RT          14039 non-null  float64\n",
            " 15  MALE_N20S_WTCHNG_RT          14039 non-null  float64\n",
            " 16  MALE_N30S_WTCHNG_RT          14039 non-null  float64\n",
            " 17  MALE_N40S_WTCHNG_RT          14039 non-null  float64\n",
            " 18  MALE_N50S_WTCHNG_RT          14039 non-null  float64\n",
            " 19  MALE_N60S_ABOVE_WTCHNG_RT    14039 non-null  float64\n",
            " 20  FEMALE_4_9YO_WTCHNG_RT       14039 non-null  float64\n",
            " 21  FEMALE_N10S_WTCHNG_RT        14039 non-null  float64\n",
            " 22  FEMALE_N20S_WTCHNG_RT        14039 non-null  float64\n",
            " 23  FEMALE_N30S_WTCHNG_RT        14039 non-null  float64\n",
            " 24  FEMALE_N40S_WTCHNG_RT        14039 non-null  float64\n",
            " 25  FEMALE_N50S_WTCHNG_RT        14039 non-null  float64\n",
            " 26  FEMALE_N60S_ABOVE_WTCHNG_RT  14039 non-null  float64\n",
            " 27  CST_CN                       14039 non-null  object \n",
            "dtypes: float64(14), int64(5), object(9)\n",
            "memory usage: 3.0+ MB\n"
          ]
        }
      ]
    },
    {
      "cell_type": "code",
      "source": [
        "df.duplicated().sum() #중복 없음."
      ],
      "metadata": {
        "colab": {
          "base_uri": "https://localhost:8080/"
        },
        "id": "qjEnCXERVG0B",
        "outputId": "74c378f9-c9ad-4be3-b488-7963ab126284"
      },
      "execution_count": 11,
      "outputs": [
        {
          "output_type": "execute_result",
          "data": {
            "text/plain": [
              "0"
            ]
          },
          "metadata": {},
          "execution_count": 11
        }
      ]
    },
    {
      "cell_type": "code",
      "source": [
        "## 특성을 엔지니어링 하는 함수 생성 ## \n",
        "\n",
        "def engineer(df):\n",
        "\n",
        "  # begin time conver to 'A','B','C', etc. def\n",
        "  def convert_time(x):\n",
        "    if (x >= 000000) & (x <= 25959):\n",
        "      return \"A\"\n",
        "    if x >= 30000 and x <= 55959:\n",
        "      return \"B\"\n",
        "    if x >= 60000 and x <= 85959:\n",
        "      return \"C\"\n",
        "    if x >= 90000 and x <= 115959:\n",
        "      return \"D\"\n",
        "    if x >= 120000 and x <= 145959:\n",
        "      return \"E\"\n",
        "    if x >= 150000 and x <= 175959:\n",
        "      return \"F\"\n",
        "    if x >= 180000 and x <= 205959:\n",
        "      return \"G\"\n",
        "    if x >= 210000 and x <= 235959:\n",
        "      return \"H\"\n",
        "  df['PROGRM_BEGIN_TIME'] = df['PROGRM_BEGIN_TIME'].apply(convert_time)\n",
        "\n",
        "  ## 컬럼명 변경\n",
        "  df.rename(columns = {'BRDCST_DE' : 'date',\n",
        "                     'CHNNEL_NM' : 'chanel',\n",
        "                     'PROGRM_BEGIN_TIME' : 'time',\n",
        "                     'PROGRM_NM' : 'name',\n",
        "                     'PROGRM_GENRE_SCLAS_NM' : 'genre',\n",
        "                     'MALE_N20S_WTCHNG_RT' : 'm_20',\n",
        "                     'MALE_N30S_WTCHNG_RT' : 'm_30',\n",
        "                     'FEMALE_N20S_WTCHNG_RT' : 'f_20',\n",
        "                     'FEMALE_N30S_WTCHNG_RT' : 'f_30',\n",
        "                     'CST_CN' : 'casting'}, inplace = True)\n",
        "  ###컬럼삭제\n",
        "  delete_columns = ['BRDCST_END_DE','PROGRM_DC', 'BRDCST_TME_NM', \n",
        "                  'PROGRM_BRDCST_AREA_NM','PROGRM_GENRE_LCLAS_NM', \n",
        "                  'PROGRM_GENRE_MLSFC_NM', 'PROGRM_END_TIME', \n",
        "                  'BRDCST_TIME', 'MALE_4_9YO_WTCHNG_RT',\n",
        "                  'MALE_N10S_WTCHNG_RT', 'MALE_N40S_WTCHNG_RT',\n",
        "                  'MALE_N50S_WTCHNG_RT','MALE_N60S_ABOVE_WTCHNG_RT',\n",
        "                  'FEMALE_4_9YO_WTCHNG_RT','FEMALE_N10S_WTCHNG_RT',\n",
        "                  'FEMALE_N40S_WTCHNG_RT','FEMALE_N50S_WTCHNG_RT',\n",
        "                  'FEMALE_N60S_ABOVE_WTCHNG_RT', 'date']\n",
        "  df.drop(columns = delete_columns, axis = 1, inplace=True)\n",
        "\n",
        "  return df"
      ],
      "metadata": {
        "id": "8W9sfHMdbAW9"
      },
      "execution_count": 12,
      "outputs": []
    },
    {
      "cell_type": "code",
      "source": [
        "train = engineer(df)\n",
        "test = engineer(test)"
      ],
      "metadata": {
        "id": "1uoHqg7ue-GV"
      },
      "execution_count": 13,
      "outputs": []
    },
    {
      "cell_type": "code",
      "source": [
        "train.head()"
      ],
      "metadata": {
        "colab": {
          "base_uri": "https://localhost:8080/",
          "height": 206
        },
        "id": "HF4TBNTnfmGH",
        "outputId": "532a8ff0-d64f-4454-b8fa-a2a7f0b4cf82"
      },
      "execution_count": 18,
      "outputs": [
        {
          "output_type": "execute_result",
          "data": {
            "text/plain": [
              "          chanel time         name  genre     m_20     m_30     f_20     f_30  \\\n",
              "12124     TRENDY    G  부부클리닉사랑과전쟁2    단막극  0.00000  0.00838  0.00000  0.00000   \n",
              "4351         MBC    C        두번째남편  일일연속극  0.25389  0.83864  0.63164  0.75839   \n",
              "9293         SKY    C          홍천기  미니시리즈  0.07504  0.00753  0.26470  0.12051   \n",
              "5490   KBS Story    A         빨강구두  일일연속극  0.00000  0.07578  0.00000  0.00000   \n",
              "5873        CNTV    H          대조영  주말연속극  0.00000  0.00000  0.01624  0.02051   \n",
              "\n",
              "                                                 casting  \n",
              "12124                        이재만,민지영,최영완,이정수,장가현,손유경,이준우  \n",
              "4351   봉선화역:엄현경,윤재민역:차서원,윤재경역:오승아,문상혁역:한기웅,주해란역:지수원,윤...  \n",
              "9293   저자정은궐,출판파란(파란미디어)2021.08.20.,리뷰9건,도서27,000원판매처...  \n",
              "5490   민희경역:최명길,김진아역:소이현,윤기석역:박윤재,윤현석역:신정윤,권혜빈역:정유민,권...  \n",
              "5873   대조영역:최수종,이해고역:정보석,설인귀역:이덕화,검이역:정태우,초린역:박예진,숙영역...  "
            ],
            "text/html": [
              "\n",
              "  <div id=\"df-68e61bf6-7812-4ba7-a8b8-db222f9da332\">\n",
              "    <div class=\"colab-df-container\">\n",
              "      <div>\n",
              "<style scoped>\n",
              "    .dataframe tbody tr th:only-of-type {\n",
              "        vertical-align: middle;\n",
              "    }\n",
              "\n",
              "    .dataframe tbody tr th {\n",
              "        vertical-align: top;\n",
              "    }\n",
              "\n",
              "    .dataframe thead th {\n",
              "        text-align: right;\n",
              "    }\n",
              "</style>\n",
              "<table border=\"1\" class=\"dataframe\">\n",
              "  <thead>\n",
              "    <tr style=\"text-align: right;\">\n",
              "      <th></th>\n",
              "      <th>chanel</th>\n",
              "      <th>time</th>\n",
              "      <th>name</th>\n",
              "      <th>genre</th>\n",
              "      <th>m_20</th>\n",
              "      <th>m_30</th>\n",
              "      <th>f_20</th>\n",
              "      <th>f_30</th>\n",
              "      <th>casting</th>\n",
              "    </tr>\n",
              "  </thead>\n",
              "  <tbody>\n",
              "    <tr>\n",
              "      <th>12124</th>\n",
              "      <td>TRENDY</td>\n",
              "      <td>G</td>\n",
              "      <td>부부클리닉사랑과전쟁2</td>\n",
              "      <td>단막극</td>\n",
              "      <td>0.00000</td>\n",
              "      <td>0.00838</td>\n",
              "      <td>0.00000</td>\n",
              "      <td>0.00000</td>\n",
              "      <td>이재만,민지영,최영완,이정수,장가현,손유경,이준우</td>\n",
              "    </tr>\n",
              "    <tr>\n",
              "      <th>4351</th>\n",
              "      <td>MBC</td>\n",
              "      <td>C</td>\n",
              "      <td>두번째남편</td>\n",
              "      <td>일일연속극</td>\n",
              "      <td>0.25389</td>\n",
              "      <td>0.83864</td>\n",
              "      <td>0.63164</td>\n",
              "      <td>0.75839</td>\n",
              "      <td>봉선화역:엄현경,윤재민역:차서원,윤재경역:오승아,문상혁역:한기웅,주해란역:지수원,윤...</td>\n",
              "    </tr>\n",
              "    <tr>\n",
              "      <th>9293</th>\n",
              "      <td>SKY</td>\n",
              "      <td>C</td>\n",
              "      <td>홍천기</td>\n",
              "      <td>미니시리즈</td>\n",
              "      <td>0.07504</td>\n",
              "      <td>0.00753</td>\n",
              "      <td>0.26470</td>\n",
              "      <td>0.12051</td>\n",
              "      <td>저자정은궐,출판파란(파란미디어)2021.08.20.,리뷰9건,도서27,000원판매처...</td>\n",
              "    </tr>\n",
              "    <tr>\n",
              "      <th>5490</th>\n",
              "      <td>KBS Story</td>\n",
              "      <td>A</td>\n",
              "      <td>빨강구두</td>\n",
              "      <td>일일연속극</td>\n",
              "      <td>0.00000</td>\n",
              "      <td>0.07578</td>\n",
              "      <td>0.00000</td>\n",
              "      <td>0.00000</td>\n",
              "      <td>민희경역:최명길,김진아역:소이현,윤기석역:박윤재,윤현석역:신정윤,권혜빈역:정유민,권...</td>\n",
              "    </tr>\n",
              "    <tr>\n",
              "      <th>5873</th>\n",
              "      <td>CNTV</td>\n",
              "      <td>H</td>\n",
              "      <td>대조영</td>\n",
              "      <td>주말연속극</td>\n",
              "      <td>0.00000</td>\n",
              "      <td>0.00000</td>\n",
              "      <td>0.01624</td>\n",
              "      <td>0.02051</td>\n",
              "      <td>대조영역:최수종,이해고역:정보석,설인귀역:이덕화,검이역:정태우,초린역:박예진,숙영역...</td>\n",
              "    </tr>\n",
              "  </tbody>\n",
              "</table>\n",
              "</div>\n",
              "      <button class=\"colab-df-convert\" onclick=\"convertToInteractive('df-68e61bf6-7812-4ba7-a8b8-db222f9da332')\"\n",
              "              title=\"Convert this dataframe to an interactive table.\"\n",
              "              style=\"display:none;\">\n",
              "        \n",
              "  <svg xmlns=\"http://www.w3.org/2000/svg\" height=\"24px\"viewBox=\"0 0 24 24\"\n",
              "       width=\"24px\">\n",
              "    <path d=\"M0 0h24v24H0V0z\" fill=\"none\"/>\n",
              "    <path d=\"M18.56 5.44l.94 2.06.94-2.06 2.06-.94-2.06-.94-.94-2.06-.94 2.06-2.06.94zm-11 1L8.5 8.5l.94-2.06 2.06-.94-2.06-.94L8.5 2.5l-.94 2.06-2.06.94zm10 10l.94 2.06.94-2.06 2.06-.94-2.06-.94-.94-2.06-.94 2.06-2.06.94z\"/><path d=\"M17.41 7.96l-1.37-1.37c-.4-.4-.92-.59-1.43-.59-.52 0-1.04.2-1.43.59L10.3 9.45l-7.72 7.72c-.78.78-.78 2.05 0 2.83L4 21.41c.39.39.9.59 1.41.59.51 0 1.02-.2 1.41-.59l7.78-7.78 2.81-2.81c.8-.78.8-2.07 0-2.86zM5.41 20L4 18.59l7.72-7.72 1.47 1.35L5.41 20z\"/>\n",
              "  </svg>\n",
              "      </button>\n",
              "      \n",
              "  <style>\n",
              "    .colab-df-container {\n",
              "      display:flex;\n",
              "      flex-wrap:wrap;\n",
              "      gap: 12px;\n",
              "    }\n",
              "\n",
              "    .colab-df-convert {\n",
              "      background-color: #E8F0FE;\n",
              "      border: none;\n",
              "      border-radius: 50%;\n",
              "      cursor: pointer;\n",
              "      display: none;\n",
              "      fill: #1967D2;\n",
              "      height: 32px;\n",
              "      padding: 0 0 0 0;\n",
              "      width: 32px;\n",
              "    }\n",
              "\n",
              "    .colab-df-convert:hover {\n",
              "      background-color: #E2EBFA;\n",
              "      box-shadow: 0px 1px 2px rgba(60, 64, 67, 0.3), 0px 1px 3px 1px rgba(60, 64, 67, 0.15);\n",
              "      fill: #174EA6;\n",
              "    }\n",
              "\n",
              "    [theme=dark] .colab-df-convert {\n",
              "      background-color: #3B4455;\n",
              "      fill: #D2E3FC;\n",
              "    }\n",
              "\n",
              "    [theme=dark] .colab-df-convert:hover {\n",
              "      background-color: #434B5C;\n",
              "      box-shadow: 0px 1px 3px 1px rgba(0, 0, 0, 0.15);\n",
              "      filter: drop-shadow(0px 1px 2px rgba(0, 0, 0, 0.3));\n",
              "      fill: #FFFFFF;\n",
              "    }\n",
              "  </style>\n",
              "\n",
              "      <script>\n",
              "        const buttonEl =\n",
              "          document.querySelector('#df-68e61bf6-7812-4ba7-a8b8-db222f9da332 button.colab-df-convert');\n",
              "        buttonEl.style.display =\n",
              "          google.colab.kernel.accessAllowed ? 'block' : 'none';\n",
              "\n",
              "        async function convertToInteractive(key) {\n",
              "          const element = document.querySelector('#df-68e61bf6-7812-4ba7-a8b8-db222f9da332');\n",
              "          const dataTable =\n",
              "            await google.colab.kernel.invokeFunction('convertToInteractive',\n",
              "                                                     [key], {});\n",
              "          if (!dataTable) return;\n",
              "\n",
              "          const docLinkHtml = 'Like what you see? Visit the ' +\n",
              "            '<a target=\"_blank\" href=https://colab.research.google.com/notebooks/data_table.ipynb>data table notebook</a>'\n",
              "            + ' to learn more about interactive tables.';\n",
              "          element.innerHTML = '';\n",
              "          dataTable['output_type'] = 'display_data';\n",
              "          await google.colab.output.renderOutput(dataTable, element);\n",
              "          const docLink = document.createElement('div');\n",
              "          docLink.innerHTML = docLinkHtml;\n",
              "          element.appendChild(docLink);\n",
              "        }\n",
              "      </script>\n",
              "    </div>\n",
              "  </div>\n",
              "  "
            ]
          },
          "metadata": {},
          "execution_count": 18
        }
      ]
    },
    {
      "cell_type": "code",
      "source": [
        "train.shape, test.shape"
      ],
      "metadata": {
        "colab": {
          "base_uri": "https://localhost:8080/"
        },
        "id": "5Lo6baC3fgxE",
        "outputId": "cb55ed81-d007-4ddc-e941-756b8380a6fa"
      },
      "execution_count": 15,
      "outputs": [
        {
          "output_type": "execute_result",
          "data": {
            "text/plain": [
              "((14039, 9), (5315, 9))"
            ]
          },
          "metadata": {},
          "execution_count": 15
        }
      ]
    },
    {
      "cell_type": "code",
      "source": [
        "from sklearn.model_selection import train_test_split\n",
        "target = 'm_30'\n",
        "train, val = train_test_split(train, train_size = 0.8, test_size = 0.2, random_state = 2)"
      ],
      "metadata": {
        "id": "5ESUjzQugjR0"
      },
      "execution_count": 17,
      "outputs": []
    },
    {
      "cell_type": "code",
      "source": [
        "X_train = train.drop(columns=target)\n",
        "y_train = train[target]\n",
        "X_val = val.drop(columns=target)\n",
        "y_val = val[target]\n",
        "X_test = test.drop(columns=target)\n",
        "y_test = test[target]"
      ],
      "metadata": {
        "id": "Emab9kG-iLvC"
      },
      "execution_count": 19,
      "outputs": []
    },
    {
      "cell_type": "code",
      "source": [
        "X_train.shape, X_val.shape, y_train.shape, y_val.shape"
      ],
      "metadata": {
        "colab": {
          "base_uri": "https://localhost:8080/"
        },
        "id": "ZDqD3AUgibjZ",
        "outputId": "45dc255f-9dc3-484f-d26b-e781a243492a"
      },
      "execution_count": 20,
      "outputs": [
        {
          "output_type": "execute_result",
          "data": {
            "text/plain": [
              "((11231, 8), (2808, 8), (11231,), (2808,))"
            ]
          },
          "metadata": {},
          "execution_count": 20
        }
      ]
    },
    {
      "cell_type": "code",
      "source": [
        "print(len(df.shape) == len(train.shape))"
      ],
      "metadata": {
        "colab": {
          "base_uri": "https://localhost:8080/"
        },
        "id": "HsXOwPIIi2s3",
        "outputId": "06ada115-6ba0-46b4-c37c-41489026a397"
      },
      "execution_count": 21,
      "outputs": [
        {
          "output_type": "stream",
          "name": "stdout",
          "text": [
            "True\n"
          ]
        }
      ]
    },
    {
      "cell_type": "code",
      "source": [
        "### 기존 숫자형태로 되어있던 시간 분포 \n",
        "import matplotlib.pyplot as plt\n",
        "colors = ['#E76939', '#9B2B5A', '#E50E45', '#6D045E','#022A76', '#191232',\n",
        "          '#F4B951', '#055156', '#A6D26A', '#13BC81','#252848', '#076F50']\n",
        "plt.figure(figsize=(6,4))\n",
        "plt.title('Time distribution', size = 15)\n",
        "plt.hist(df_ori['PROGRM_BEGIN_TIME'])\n",
        "plt.show()"
      ],
      "metadata": {
        "colab": {
          "base_uri": "https://localhost:8080/",
          "height": 283
        },
        "id": "jf4UCRRGRnQh",
        "outputId": "cedcbce7-7ba7-4998-b996-09aea2e9bff0"
      },
      "execution_count": 22,
      "outputs": [
        {
          "output_type": "display_data",
          "data": {
            "text/plain": [
              "<Figure size 432x288 with 1 Axes>"
            ],
            "image/png": "[encoded data removed]"
          },
          "metadata": {
            "needs_background": "light"
          }
        }
      ]
    },
    {
      "cell_type": "code",
      "source": [
        "y_axis = X_train['time'].value_counts()\n",
        "y_axis\n",
        "x_axis = ['A', 'B', 'C', 'D','E','F','G','H']"
      ],
      "metadata": {
        "id": "dC4ZhcsHWDe_"
      },
      "execution_count": 23,
      "outputs": []
    },
    {
      "cell_type": "code",
      "source": [
        "### 새롭게 A,B,C,,, H 24시간을 8개의 시간대로 구분한 시간대 \n",
        "plt.figure(figsize=(6,4))\n",
        "plt.title('Time distribution', size = 15)\n",
        "plt.bar(x_axis, y_axis)\n",
        "plt.show()"
      ],
      "metadata": {
        "colab": {
          "base_uri": "https://localhost:8080/",
          "height": 283
        },
        "id": "eOd8YgnfS1aR",
        "outputId": "12b2e87b-c6a6-43ea-e791-8807b7de6067"
      },
      "execution_count": 24,
      "outputs": [
        {
          "output_type": "display_data",
          "data": {
            "text/plain": [
              "<Figure size 432x288 with 1 Axes>"
            ],
            "image/png": "[encoded data removed]"
          },
          "metadata": {
            "needs_background": "light"
          }
        }
      ]
    },
    {
      "cell_type": "code",
      "source": [
        "y_train.sort_values(ascending=False).describe()"
      ],
      "metadata": {
        "id": "Nrizr6jdtpi8"
      },
      "execution_count": null,
      "outputs": []
    },
    {
      "cell_type": "code",
      "source": [
        "import seaborn as sns\n",
        "from scipy import stats\n",
        "sns.distplot(np.log1p(y_train))"
      ],
      "metadata": {
        "id": "P8PZ7v-blxNd"
      },
      "execution_count": null,
      "outputs": []
    },
    {
      "cell_type": "code",
      "source": [
        "sns.distplot((y_train))"
      ],
      "metadata": {
        "id": "1smtO2tYybpX"
      },
      "execution_count": null,
      "outputs": []
    },
    {
      "cell_type": "code",
      "source": [
        "yy_train = df[df['m_30'] < np.percentile(df['m_30'], 99.5)]['m_30']\n",
        "yy_train.describe()\n",
        "df.shape"
      ],
      "metadata": {
        "id": "DPOxPjq2zq9l"
      },
      "execution_count": null,
      "outputs": []
    },
    {
      "cell_type": "code",
      "source": [
        "yy_train = (y_train < np.percentile(y_train, 99.5))\n",
        "yy_train = (yy_train > np.percentile(y_train, 99.5))"
      ],
      "metadata": {
        "id": "-5LXOYc1yhV-"
      },
      "execution_count": null,
      "outputs": []
    },
    {
      "cell_type": "code",
      "source": [
        "yy_train"
      ],
      "metadata": {
        "id": "RQSoyqRzzTdS"
      },
      "execution_count": null,
      "outputs": []
    },
    {
      "cell_type": "code",
      "source": [
        "sns.distplot(np.log1p(yy_train))"
      ],
      "metadata": {
        "id": "xsKnQ1bhyvtM"
      },
      "execution_count": null,
      "outputs": []
    },
    {
      "cell_type": "code",
      "source": [
        "y_train.isnull().sum()\n",
        "y_train"
      ],
      "metadata": {
        "id": "2TX1J5Rcm0tN"
      },
      "execution_count": null,
      "outputs": []
    },
    {
      "cell_type": "code",
      "source": [
        "import numpy as np \n",
        "plt.figure(figsize=(6,4))\n",
        "plt.title('m_20 distribution', size = 15)\n",
        "plt.hist(y_train)\n",
        "plt.show()"
      ],
      "metadata": {
        "colab": {
          "base_uri": "https://localhost:8080/",
          "height": 283
        },
        "id": "7HaWI9celVbd",
        "outputId": "278285aa-fa72-443f-b1f2-18e58beaaeab"
      },
      "execution_count": 25,
      "outputs": [
        {
          "output_type": "display_data",
          "data": {
            "text/plain": [
              "<Figure size 432x288 with 1 Axes>"
            ],
            "image/png": "[encoded data removed]"
          },
          "metadata": {
            "needs_background": "light"
          }
        }
      ]
    },
    {
      "cell_type": "markdown",
      "source": [
        "Baseline 설정 및 검증"
      ],
      "metadata": {
        "id": "_1hRDLWrMMQ0"
      }
    },
    {
      "cell_type": "code",
      "source": [
        "baseline = y_train.mean()\n",
        "baseline"
      ],
      "metadata": {
        "colab": {
          "base_uri": "https://localhost:8080/"
        },
        "id": "Y7mXLR4akBl9",
        "outputId": "96dc514d-95b6-4570-88a7-46d64a08d71a"
      },
      "execution_count": 26,
      "outputs": [
        {
          "output_type": "execute_result",
          "data": {
            "text/plain": [
              "0.1537021556406375"
            ]
          },
          "metadata": {},
          "execution_count": 26
        }
      ]
    },
    {
      "cell_type": "code",
      "source": [
        "# 기준모델로 훈련 R2, MSE 계산\n",
        "from sklearn.metrics import r2_score, mean_squared_error\n",
        "y_pred = [baseline] * len(y_train)\n",
        "r2 = r2_score(y_train, y_pred)\n",
        "mse = mean_squared_error(y_train, y_pred)\n",
        "print(f'훈련 세트 r2: {r2:.10f}')\n",
        "print(f'훈련 세트 MSE: {mse:.10f}')"
      ],
      "metadata": {
        "colab": {
          "base_uri": "https://localhost:8080/"
        },
        "id": "3fO-WYyilJfo",
        "outputId": "20220b7d-9c46-4f2b-8e80-2b43e41cb178"
      },
      "execution_count": 29,
      "outputs": [
        {
          "output_type": "stream",
          "name": "stdout",
          "text": [
            "r2 score: 0.0000000000\n",
            "MSE훈련 에러: 0.2696117100\n"
          ]
        }
      ]
    },
    {
      "cell_type": "code",
      "source": [
        "# 기준모델로 검증 에러 계산\n",
        "y_pred = [baseline] * len(y_val)\n",
        "r2 = r2_score(y_val, y_pred)\n",
        "mse = mean_squared_error(y_val, y_pred)\n",
        "print(f'검증 세트 r2: {r2:.10f}')\n",
        "print(f'검증 세트 MSE: {mse:.10f}')\n",
        "# it can be negative (because the model can be arbitarily worse)\n",
        "# 음수가 될 수도 있다. 모델이 악화될 수도 있기 때문. (즉 모델이 garbage....)"
      ],
      "metadata": {
        "colab": {
          "base_uri": "https://localhost:8080/"
        },
        "id": "SwEB9ptRKMU-",
        "outputId": "98c6cf80-c061-4e34-c1a7-80d8659b397d"
      },
      "execution_count": 33,
      "outputs": [
        {
          "output_type": "stream",
          "name": "stdout",
          "text": [
            "r2 score: -0.0002229936\n",
            "MSE훈련 에러: 0.3085190294\n"
          ]
        }
      ]
    },
    {
      "cell_type": "code",
      "source": [
        "# 테스트 에러(MAE)\n",
        "y_pred = [baseline] * len(y_test)\n",
        "r2 = r2_score(y_test, y_pred)\n",
        "mae = mean_squared_error(y_test, y_pred)\n",
        "print(f'테스트 세트 r2: {r2:.10f}')\n",
        "print(f'테스트 세트 MSE: {mse:.10f}')"
      ],
      "metadata": {
        "colab": {
          "base_uri": "https://localhost:8080/"
        },
        "id": "-El1fdrO9n9-",
        "outputId": "0ba36067-4108-44d6-80ee-645f4bbc7960"
      },
      "execution_count": 34,
      "outputs": [
        {
          "output_type": "stream",
          "name": "stdout",
          "text": [
            "r2 score: -0.0000344486\n",
            "MSE훈련 에러: 0.3085190294\n"
          ]
        }
      ]
    },
    {
      "cell_type": "markdown",
      "source": [
        "1.랜덤포레스트"
      ],
      "metadata": {
        "id": "tGLMPuZOMQQj"
      }
    },
    {
      "cell_type": "code",
      "source": [
        "## LinearRegression\n",
        "from sklearn.preprocessing import MinMaxScaler #MinMax로 정규화\n",
        "from sklearn.ensemble import RandomForestRegressor #RandomForest회귀분석\n",
        "from sklearn.compose import TransformedTargetRegressor\n",
        "from sklearn.metrics import f1_score, roc_auc_score\n",
        "from category_encoders import OrdinalEncoder, OneHotEncoder, TargetEncoder\n",
        "from sklearn.model_selection import RandomizedSearchCV\n",
        "from sklearn.pipeline import make_pipeline, Pipeline\n",
        "from scipy.stats import randint, uniform\n",
        "import warnings\n",
        "warnings.filterwarnings(\"ignore\")\n",
        "\n",
        "# 컬럼 정규화 \n",
        "scaled_columns = ['m_20', 'f_20', 'f_30']\n",
        "scaler = MinMaxScaler().fit(X_train[scaled_columns])\n",
        "\n",
        "pipeline = make_pipeline(\n",
        "    TargetEncoder(cols = ['chanel', 'time', 'name', 'genre', 'casting']),\n",
        "    RandomForestRegressor(n_jobs=-1)\n",
        "    )\n",
        "\n",
        "dists = { \n",
        "    'randomforestregressor__n_estimators': randint(50, 500),\n",
        "    'randomforestregressor__max_depth': [5, 10, 15, 20, 25, None],\n",
        "    'randomforestregressor__min_samples_leaf': [1, 2, 3, 4, 5, 6],\n",
        "    'randomforestregressor__min_samples_split': [2, 3, 4, 5, 6, 7],\n",
        "    }\n",
        "\n",
        "clf = RandomizedSearchCV(\n",
        "    pipeline,\n",
        "    param_distributions= dists, \n",
        "    n_iter=8, \n",
        "    cv=5, \n",
        "    scoring='neg_mean_squared_error',  \n",
        "    verbose=1,\n",
        "    refit=True,\n",
        "    n_jobs=-2\n",
        "    )\n",
        "\n",
        "clf.fit(X_train, y_train)"
      ],
      "metadata": {
        "id": "qwtaWh17-Ggz"
      },
      "execution_count": null,
      "outputs": []
    },
    {
      "cell_type": "code",
      "source": [
        "## train  - 랜덤포레스트 최적화된 하이퍼파라미터로 오류 확인\n",
        "def adj_r2(r2, n, p):\n",
        "    return 1 - (1-r2)*(n-1)/(n-p-1)\n",
        "pipe = clf.best_estimator_\n",
        "y_pred = pipe.predict(X_train)\n",
        "\n",
        "r2 = r2_score(y_train, y_pred)\n",
        "mse = mean_squared_error(y_train,y_pred)\n",
        "\n",
        "print(f'훈련 세트 r2: {r2:.10f}')\n",
        "print(f'훈련 세트 조정된 r2: {adj_r2(r2, X_train.shape[0], X_train.shape[1]):.10f}')\n",
        "print(f'훈련 세트 MSE: {mse:,.10f}')"
      ],
      "metadata": {
        "id": "69I6h-8ueuCW"
      },
      "execution_count": null,
      "outputs": []
    },
    {
      "cell_type": "code",
      "source": [
        "## val - 랜덤포레스트 최적화된 하이퍼파라미터로 오류 확인\n",
        "def adj_r2(r2, n, p):\n",
        "    return 1 - (1-r2)*(n-1)/(n-p-1)\n",
        "    \n",
        "pipe = clf.best_estimator_\n",
        "y_pred = pipe.predict(X_val)\n",
        "r2 = r2_score(y_val, y_pred)\n",
        "mse = mean_squared_error(y_val,y_pred)\n",
        "print(f'검증 세트 r2: {r2:.10f}')\n",
        "print(f'검증 세트 조정된 r2: {adj_r2(r2, X_val.shape[0], X_val.shape[1]):.10f}')\n",
        "print(f'검증 세트 MSE: {mse:,.10f}')"
      ],
      "metadata": {
        "colab": {
          "base_uri": "https://localhost:8080/"
        },
        "id": "buq-RYf2OgU1",
        "outputId": "d9f65176-f596-48ec-8cd9-fb7566874ccc"
      },
      "execution_count": 41,
      "outputs": [
        {
          "output_type": "stream",
          "name": "stdout",
          "text": [
            "검증세트 r2: 0.9131727485\n",
            "검증세트 조정된 r2: 0.9129245820\n",
            "검증세트 MSE: 0.0267818872\n"
          ]
        }
      ]
    },
    {
      "cell_type": "code",
      "source": [
        "### Test - 랜덤포레스트 최적화된 하이퍼파라미터 오류 확인 \n",
        "def adj_r2(r2, n, p):\n",
        "    return 1 - (1-r2)*(n-1)/(n-p-1)\n",
        "pipe = clf.best_estimator_\n",
        "y_pred = pipe.predict(X_test)\n",
        "r2 = r2_score(y_test, y_pred)\n",
        "mse = mean_squared_error(y_test,y_pred)\n",
        "print(f'테스트 세트 r2: {r2:.10f}')\n",
        "print(f'테스트 세트 조정된 r2: {adj_r2(r2, X_test.shape[0], X_test.shape[1]):.10f}')\n",
        "print(f'테스트 세트 MSE: {mse:,.10f}')"
      ],
      "metadata": {
        "colab": {
          "base_uri": "https://localhost:8080/"
        },
        "id": "Ow3jNXtQEdC6",
        "outputId": "e306eda8-a04a-483a-c418-f23d6407df5f"
      },
      "execution_count": 42,
      "outputs": [
        {
          "output_type": "stream",
          "name": "stdout",
          "text": [
            "검증세트 r2: 0.8717291803\n",
            "검증세트 조정된 r2: 0.8715357829\n",
            "검증세트 MSE: 0.0298898547\n"
          ]
        }
      ]
    },
    {
      "cell_type": "markdown",
      "source": [
        "2. 다중선형회귀"
      ],
      "metadata": {
        "id": "KEa6_4McMUcJ"
      }
    },
    {
      "cell_type": "code",
      "source": [
        "from sklearn.linear_model import LinearRegression\n",
        "lr = LinearRegression()\n",
        "\n",
        "scaled_columns = ['m_20', 'f_20', 'f_30']\n",
        "MinMaxScaler().fit(X_train[scaled_columns]) #MinMaxScaler로 시청률 범위 정규화\n",
        "encoder = OneHotEncoder(use_cat_names = True) #OHE로 범주형 데이터 인코딩 \n",
        "X_train = encoder.fit_transform(X_train) #OHE로 fit and transform - X_train\n",
        "# TargetEncoder().fit(X_train)\n",
        "lr.fit(X_train, y_train)"
      ],
      "metadata": {
        "colab": {
          "base_uri": "https://localhost:8080/"
        },
        "id": "b1BeKQGUFfAk",
        "outputId": "6d20a482-ed1c-412e-a685-37cc7a422fcc"
      },
      "execution_count": 56,
      "outputs": [
        {
          "output_type": "execute_result",
          "data": {
            "text/plain": [
              "LinearRegression()"
            ]
          },
          "metadata": {},
          "execution_count": 56
        }
      ]
    },
    {
      "cell_type": "code",
      "source": [
        "## Train - 다중선형회귀 모델 오류 확인 \n",
        "def adj_r2(r2, n, p):\n",
        "    return 1 - (1-r2)*(n-1)/(n-p-1)\n",
        "    \n",
        "y_pred = lr.predict(X_train)\n",
        "r2 = r2_score(y_train, y_pred)\n",
        "mse = mean_squared_error(y_train,y_pred)\n",
        "print(f'훈련 세트 r2: {r2:.10f}')\n",
        "print(f'훈련 세트 조정된 r2: {adj_r2(r2, X_train.shape[0], X_train.shape[1]):.10f}')\n",
        "print(f'훈련 세트 MSE: {mse:,.10f}')\n",
        "print(\"--\" * 30)\n",
        "plt.scatter(y_train, y_pred, alpha=0.4)\n",
        "plt.xlabel(\"Actual Watching Rate\")\n",
        "plt.ylabel(\"Predicted Watching Rate\")\n",
        "plt.title(\"MULTIPLE LINEAR REGRESSION\")\n",
        "plt.show()"
      ],
      "metadata": {
        "colab": {
          "base_uri": "https://localhost:8080/",
          "height": 368
        },
        "id": "x8E_PNghVgpe",
        "outputId": "2213bfbd-22d3-43aa-ee6f-3e37a8263932"
      },
      "execution_count": 63,
      "outputs": [
        {
          "output_type": "stream",
          "name": "stdout",
          "text": [
            "검증세트 r2: 0.9047536529\n",
            "검증세트 조정된 r2: 0.9009889403\n",
            "검증세트 MSE: 0.0256795305\n",
            "------------------------------------------------------------\n"
          ]
        },
        {
          "output_type": "display_data",
          "data": {
            "text/plain": [
              "<Figure size 432x288 with 1 Axes>"
            ],
            "image/png": "[encoded data removed]"
          },
          "metadata": {
            "needs_background": "light"
          }
        }
      ]
    },
    {
      "cell_type": "code",
      "source": [
        "## Val - 다중선형회귀 모델 오류 확인 \n",
        "def adj_r2(r2, n, p):\n",
        "    return 1 - (1-r2)*(n-1)/(n-p-1)\n",
        "\n",
        "scaled_columns = ['m_20', 'f_20', 'f_30']\n",
        "MinMaxScaler().fit(X_val[scaled_columns]) #MinMaxScaler로 시청률 범위 정규화\n",
        "encoder = OneHotEncoder(use_cat_names = True) #OHE로 범주형 데이터 인코딩 \n",
        "# X_train = encoder.fit_transform(X_train) #OHE로 fit and transform - X_train\n",
        "\n",
        "X_val = encoder.fit_transform(X_val)\n",
        "y_pred = lr.predict(X_val)\n",
        "r2 = r2_score(y_val, y_pred)\n",
        "mse = mean_squared_error(y_val,y_pred)\n",
        "print(f'검증 세트 r2: {r2:.10f}')\n",
        "print(f'검증 세트 조정된 r2: {adj_r2(r2, X_val.shape[0], X_val.shape[1]):.10f}')\n",
        "print(f'검증 세트 MSE: {mse:,.10f}')\n",
        "print(\"--\" * 30)\n",
        "plt.scatter(y_val, y_pred, alpha=0.4)\n",
        "plt.xlabel(\"Actual Watching Rate\")\n",
        "plt.ylabel(\"Predicted Watching Rate\")\n",
        "plt.title(\"MULTIPLE LINEAR REGRESSION\")\n",
        "plt.show()"
      ],
      "metadata": {
        "colab": {
          "base_uri": "https://localhost:8080/",
          "height": 368
        },
        "id": "bM911WCPVKNR",
        "outputId": "567787ef-6530-4298-8a7d-c439cde624fe"
      },
      "execution_count": 70,
      "outputs": [
        {
          "output_type": "stream",
          "name": "stdout",
          "text": [
            "검증세트 r2: -930491171491843145728.0000000000\n",
            "검증세트 조정된 r2: -1097432234612438597632.0000000000\n",
            "검증세트 MSE: 287,010,231,636,267,925,504.0000000000\n",
            "------------------------------------------------------------\n"
          ]
        },
        {
          "output_type": "display_data",
          "data": {
            "text/plain": [
              "<Figure size 432x288 with 1 Axes>"
            ],
            "image/png": "[encoded data removed]"
          },
          "metadata": {
            "needs_background": "light"
          }
        }
      ]
    },
    {
      "cell_type": "code",
      "source": [
        "## Test - 다중선형회귀 모델 오류 확인 \n",
        "def adj_r2(r2, n, p):\n",
        "    return 1 - (1-r2)*(n-1)/(n-p-1)\n",
        "\n",
        "scaled_columns = ['m_20', 'f_20', 'f_30']\n",
        "MinMaxScaler().fit(X_test[scaled_columns]) #MinMaxScaler로 시청률 범위 정규화\n",
        "encoder = OneHotEncoder(use_cat_names = True) #OHE로 범주형 데이터 인코딩 \n",
        "\n",
        "X_test = encoder.transform(X_test)\n",
        "y_pred = lr.predict(X_test)\n",
        "r2 = r2_score(y_test, y_pred)\n",
        "mse = mean_squared_error(y_test,y_pred)\n",
        "print(f'테스트 세트 r2: {r2:.10f}')\n",
        "print(f'테스트 세트 조정된 r2: {adj_r2(r2, X_test.shape[0], X_test.shape[1]):.10f}')\n",
        "print(f'테스트 세트 MSE: {mse:,.10f}')\n",
        "\n",
        "print(\"--\" * 30)\n",
        "plt.scatter(y_test, y_pred, alpha=0.4)\n",
        "plt.xlabel(\"Actual Watching Rate\")\n",
        "plt.ylabel(\"Predicted Watching Rate\")\n",
        "plt.title(\"MULTIPLE LINEAR REGRESSION\")\n",
        "plt.show()"
      ],
      "metadata": {
        "colab": {
          "base_uri": "https://localhost:8080/",
          "height": 245
        },
        "id": "lp_bTr15UcUL",
        "outputId": "753a3095-e948-4844-cc54-958bbfde647b"
      },
      "execution_count": 111,
      "outputs": [
        {
          "output_type": "error",
          "ename": "TypeError",
          "evalue": "ignored",
          "traceback": [
            "\u001b[0;31m---------------------------------------------------------------------------\u001b[0m",
            "\u001b[0;31mTypeError\u001b[0m                                 Traceback (most recent call last)",
            "\u001b[0;32m<ipython-input-111-2e2d7c25fc9d>\u001b[0m in \u001b[0;36m<module>\u001b[0;34m()\u001b[0m\n\u001b[1;32m      4\u001b[0m \u001b[0;34m\u001b[0m\u001b[0m\n\u001b[1;32m      5\u001b[0m \u001b[0mscaled_columns\u001b[0m \u001b[0;34m=\u001b[0m \u001b[0;34m[\u001b[0m\u001b[0;34m'm_20'\u001b[0m\u001b[0;34m,\u001b[0m \u001b[0;34m'f_20'\u001b[0m\u001b[0;34m,\u001b[0m \u001b[0;34m'f_30'\u001b[0m\u001b[0;34m]\u001b[0m\u001b[0;34m\u001b[0m\u001b[0;34m\u001b[0m\u001b[0m\n\u001b[0;32m----> 6\u001b[0;31m \u001b[0mMinMaxScaler\u001b[0m\u001b[0;34m(\u001b[0m\u001b[0;34m)\u001b[0m\u001b[0;34m.\u001b[0m\u001b[0mfit\u001b[0m\u001b[0;34m(\u001b[0m\u001b[0mX_test\u001b[0m\u001b[0;34m[\u001b[0m\u001b[0mscaled_columns\u001b[0m\u001b[0;34m]\u001b[0m\u001b[0;34m)\u001b[0m \u001b[0;31m#MinMaxScaler로 시청률 범위 정규화\u001b[0m\u001b[0;34m\u001b[0m\u001b[0;34m\u001b[0m\u001b[0m\n\u001b[0m\u001b[1;32m      7\u001b[0m \u001b[0mencoder\u001b[0m \u001b[0;34m=\u001b[0m \u001b[0mOneHotEncoder\u001b[0m\u001b[0;34m(\u001b[0m\u001b[0muse_cat_names\u001b[0m \u001b[0;34m=\u001b[0m \u001b[0;32mTrue\u001b[0m\u001b[0;34m)\u001b[0m \u001b[0;31m#OHE로 범주형 데이터 인코딩\u001b[0m\u001b[0;34m\u001b[0m\u001b[0;34m\u001b[0m\u001b[0m\n\u001b[1;32m      8\u001b[0m \u001b[0;34m\u001b[0m\u001b[0m\n",
            "\u001b[0;31mTypeError\u001b[0m: 'MinMaxScaler' object is not subscriptable"
          ]
        }
      ]
    },
    {
      "cell_type": "markdown",
      "source": [
        "3. XGboost "
      ],
      "metadata": {
        "id": "oKxT9A24Wky8"
      }
    },
    {
      "cell_type": "code",
      "source": [
        "from xgboost import XGBRegressor\n",
        "\n",
        "scaled_columns = ['m_20', 'f_20', 'f_30']\n",
        "\n",
        "MinMaxScaler().fit(X_train[scaled_columns]) #MinMaxScaler로 시청률 범위 정규화\n",
        "encoder = OneHotEncoder(use_cat_names = True) #OHE로 범주형 데이터 인코딩 \n",
        "X_train_encoded = encoder.fit_transform(X_train) #OHE로 fit and transform - X_train\n",
        "X_val_encoded = encoder.fit_transform(X_val)\n",
        "\n",
        "boosting = XGBRegressor(\n",
        "    n_estimators=1000,\n",
        "    objective='reg:squarederror', # default\n",
        "    learning_rate=0.2,\n",
        "    n_jobs=-1\n",
        "    )\n",
        "\n",
        "eval_set = [(X_train_encoded, y_train), \n",
        "            (X_val_encoded, y_val)]\n",
        "\n",
        "boosting.fit(X_train_encoded, y_train, \n",
        "          eval_set=eval_set,\n",
        "          early_stopping_rounds=50\n",
        "         )"
      ],
      "metadata": {
        "colab": {
          "base_uri": "https://localhost:8080/"
        },
        "id": "woIMRdLbXKrK",
        "outputId": "4d2a2790-5afe-4476-9b3e-53d06636c6c8"
      },
      "execution_count": 75,
      "outputs": [
        {
          "output_type": "stream",
          "name": "stdout",
          "text": [
            "[0]\tvalidation_0-rmse:0.512216\tvalidation_1-rmse:0.533563\n",
            "Multiple eval metrics have been passed: 'validation_1-rmse' will be used for early stopping.\n",
            "\n",
            "Will train until validation_1-rmse hasn't improved in 50 rounds.\n",
            "[1]\tvalidation_0-rmse:0.424223\tvalidation_1-rmse:0.442921\n",
            "[2]\tvalidation_0-rmse:0.355672\tvalidation_1-rmse:0.371542\n",
            "[3]\tvalidation_0-rmse:0.302257\tvalidation_1-rmse:0.313957\n",
            "[4]\tvalidation_0-rmse:0.261043\tvalidation_1-rmse:0.271589\n",
            "[5]\tvalidation_0-rmse:0.2291\tvalidation_1-rmse:0.239282\n",
            "[6]\tvalidation_0-rmse:0.20554\tvalidation_1-rmse:0.21858\n",
            "[7]\tvalidation_0-rmse:0.187725\tvalidation_1-rmse:0.201623\n",
            "[8]\tvalidation_0-rmse:0.174748\tvalidation_1-rmse:0.18934\n",
            "[9]\tvalidation_0-rmse:0.165288\tvalidation_1-rmse:0.181241\n",
            "[10]\tvalidation_0-rmse:0.158677\tvalidation_1-rmse:0.175671\n",
            "[11]\tvalidation_0-rmse:0.15361\tvalidation_1-rmse:0.171318\n",
            "[12]\tvalidation_0-rmse:0.150053\tvalidation_1-rmse:0.169752\n",
            "[13]\tvalidation_0-rmse:0.147392\tvalidation_1-rmse:0.167927\n",
            "[14]\tvalidation_0-rmse:0.144951\tvalidation_1-rmse:0.167455\n",
            "[15]\tvalidation_0-rmse:0.143362\tvalidation_1-rmse:0.166505\n",
            "[16]\tvalidation_0-rmse:0.142103\tvalidation_1-rmse:0.166031\n",
            "[17]\tvalidation_0-rmse:0.140827\tvalidation_1-rmse:0.166122\n",
            "[18]\tvalidation_0-rmse:0.140131\tvalidation_1-rmse:0.165723\n",
            "[19]\tvalidation_0-rmse:0.139342\tvalidation_1-rmse:0.165692\n",
            "[20]\tvalidation_0-rmse:0.138076\tvalidation_1-rmse:0.165272\n",
            "[21]\tvalidation_0-rmse:0.137751\tvalidation_1-rmse:0.165077\n",
            "[22]\tvalidation_0-rmse:0.137355\tvalidation_1-rmse:0.165259\n",
            "[23]\tvalidation_0-rmse:0.136688\tvalidation_1-rmse:0.165035\n",
            "[24]\tvalidation_0-rmse:0.136148\tvalidation_1-rmse:0.165101\n",
            "[25]\tvalidation_0-rmse:0.135902\tvalidation_1-rmse:0.165014\n",
            "[26]\tvalidation_0-rmse:0.135335\tvalidation_1-rmse:0.165227\n",
            "[27]\tvalidation_0-rmse:0.134604\tvalidation_1-rmse:0.164964\n",
            "[28]\tvalidation_0-rmse:0.134344\tvalidation_1-rmse:0.164926\n",
            "[29]\tvalidation_0-rmse:0.134123\tvalidation_1-rmse:0.1647\n",
            "[30]\tvalidation_0-rmse:0.133699\tvalidation_1-rmse:0.164557\n",
            "[31]\tvalidation_0-rmse:0.133153\tvalidation_1-rmse:0.163945\n",
            "[32]\tvalidation_0-rmse:0.132974\tvalidation_1-rmse:0.163755\n",
            "[33]\tvalidation_0-rmse:0.132787\tvalidation_1-rmse:0.163647\n",
            "[34]\tvalidation_0-rmse:0.132648\tvalidation_1-rmse:0.163614\n",
            "[35]\tvalidation_0-rmse:0.131894\tvalidation_1-rmse:0.164414\n",
            "[36]\tvalidation_0-rmse:0.131458\tvalidation_1-rmse:0.164559\n",
            "[37]\tvalidation_0-rmse:0.131247\tvalidation_1-rmse:0.164474\n",
            "[38]\tvalidation_0-rmse:0.131117\tvalidation_1-rmse:0.164401\n",
            "[39]\tvalidation_0-rmse:0.130766\tvalidation_1-rmse:0.164438\n",
            "[40]\tvalidation_0-rmse:0.130656\tvalidation_1-rmse:0.164134\n",
            "[41]\tvalidation_0-rmse:0.13025\tvalidation_1-rmse:0.163998\n",
            "[42]\tvalidation_0-rmse:0.129894\tvalidation_1-rmse:0.164134\n",
            "[43]\tvalidation_0-rmse:0.129683\tvalidation_1-rmse:0.164002\n",
            "[44]\tvalidation_0-rmse:0.129385\tvalidation_1-rmse:0.164043\n",
            "[45]\tvalidation_0-rmse:0.129274\tvalidation_1-rmse:0.16402\n",
            "[46]\tvalidation_0-rmse:0.128932\tvalidation_1-rmse:0.163748\n",
            "[47]\tvalidation_0-rmse:0.128764\tvalidation_1-rmse:0.163823\n",
            "[48]\tvalidation_0-rmse:0.128499\tvalidation_1-rmse:0.163808\n",
            "[49]\tvalidation_0-rmse:0.128356\tvalidation_1-rmse:0.163819\n",
            "[50]\tvalidation_0-rmse:0.128194\tvalidation_1-rmse:0.163716\n",
            "[51]\tvalidation_0-rmse:0.128123\tvalidation_1-rmse:0.163773\n",
            "[52]\tvalidation_0-rmse:0.128016\tvalidation_1-rmse:0.163844\n",
            "[53]\tvalidation_0-rmse:0.127644\tvalidation_1-rmse:0.163747\n",
            "[54]\tvalidation_0-rmse:0.127511\tvalidation_1-rmse:0.163687\n",
            "[55]\tvalidation_0-rmse:0.127225\tvalidation_1-rmse:0.163555\n",
            "[56]\tvalidation_0-rmse:0.127108\tvalidation_1-rmse:0.163479\n",
            "[57]\tvalidation_0-rmse:0.126791\tvalidation_1-rmse:0.163661\n",
            "[58]\tvalidation_0-rmse:0.12638\tvalidation_1-rmse:0.163439\n",
            "[59]\tvalidation_0-rmse:0.125985\tvalidation_1-rmse:0.164118\n",
            "[60]\tvalidation_0-rmse:0.125546\tvalidation_1-rmse:0.163806\n",
            "[61]\tvalidation_0-rmse:0.125307\tvalidation_1-rmse:0.16376\n",
            "[62]\tvalidation_0-rmse:0.125225\tvalidation_1-rmse:0.163775\n",
            "[63]\tvalidation_0-rmse:0.125009\tvalidation_1-rmse:0.163925\n",
            "[64]\tvalidation_0-rmse:0.124926\tvalidation_1-rmse:0.163888\n",
            "[65]\tvalidation_0-rmse:0.124842\tvalidation_1-rmse:0.164017\n",
            "[66]\tvalidation_0-rmse:0.124791\tvalidation_1-rmse:0.164003\n",
            "[67]\tvalidation_0-rmse:0.124648\tvalidation_1-rmse:0.163899\n",
            "[68]\tvalidation_0-rmse:0.124516\tvalidation_1-rmse:0.163692\n",
            "[69]\tvalidation_0-rmse:0.12415\tvalidation_1-rmse:0.163582\n",
            "[70]\tvalidation_0-rmse:0.123883\tvalidation_1-rmse:0.163747\n",
            "[71]\tvalidation_0-rmse:0.123816\tvalidation_1-rmse:0.163727\n",
            "[72]\tvalidation_0-rmse:0.123703\tvalidation_1-rmse:0.163747\n",
            "[73]\tvalidation_0-rmse:0.123615\tvalidation_1-rmse:0.163706\n",
            "[74]\tvalidation_0-rmse:0.123515\tvalidation_1-rmse:0.163724\n",
            "[75]\tvalidation_0-rmse:0.123434\tvalidation_1-rmse:0.163705\n",
            "[76]\tvalidation_0-rmse:0.123112\tvalidation_1-rmse:0.163877\n",
            "[77]\tvalidation_0-rmse:0.12305\tvalidation_1-rmse:0.163833\n",
            "[78]\tvalidation_0-rmse:0.122938\tvalidation_1-rmse:0.163599\n",
            "[79]\tvalidation_0-rmse:0.122851\tvalidation_1-rmse:0.163583\n",
            "[80]\tvalidation_0-rmse:0.122799\tvalidation_1-rmse:0.163571\n",
            "[81]\tvalidation_0-rmse:0.122689\tvalidation_1-rmse:0.163546\n",
            "[82]\tvalidation_0-rmse:0.122527\tvalidation_1-rmse:0.163608\n",
            "[83]\tvalidation_0-rmse:0.122282\tvalidation_1-rmse:0.163584\n",
            "[84]\tvalidation_0-rmse:0.122172\tvalidation_1-rmse:0.16343\n",
            "[85]\tvalidation_0-rmse:0.122129\tvalidation_1-rmse:0.163435\n",
            "[86]\tvalidation_0-rmse:0.121947\tvalidation_1-rmse:0.163324\n",
            "[87]\tvalidation_0-rmse:0.121861\tvalidation_1-rmse:0.163308\n",
            "[88]\tvalidation_0-rmse:0.121674\tvalidation_1-rmse:0.163287\n",
            "[89]\tvalidation_0-rmse:0.121354\tvalidation_1-rmse:0.163035\n",
            "[90]\tvalidation_0-rmse:0.120989\tvalidation_1-rmse:0.163125\n",
            "[91]\tvalidation_0-rmse:0.120863\tvalidation_1-rmse:0.163061\n",
            "[92]\tvalidation_0-rmse:0.120694\tvalidation_1-rmse:0.163215\n",
            "[93]\tvalidation_0-rmse:0.120429\tvalidation_1-rmse:0.163043\n",
            "[94]\tvalidation_0-rmse:0.120241\tvalidation_1-rmse:0.163201\n",
            "[95]\tvalidation_0-rmse:0.120085\tvalidation_1-rmse:0.163298\n",
            "[96]\tvalidation_0-rmse:0.120045\tvalidation_1-rmse:0.163284\n",
            "[97]\tvalidation_0-rmse:0.119704\tvalidation_1-rmse:0.16301\n",
            "[98]\tvalidation_0-rmse:0.119642\tvalidation_1-rmse:0.163004\n",
            "[99]\tvalidation_0-rmse:0.11949\tvalidation_1-rmse:0.16288\n",
            "[100]\tvalidation_0-rmse:0.119422\tvalidation_1-rmse:0.162844\n",
            "[101]\tvalidation_0-rmse:0.119378\tvalidation_1-rmse:0.162838\n",
            "[102]\tvalidation_0-rmse:0.118911\tvalidation_1-rmse:0.163188\n",
            "[103]\tvalidation_0-rmse:0.118865\tvalidation_1-rmse:0.163185\n",
            "[104]\tvalidation_0-rmse:0.118822\tvalidation_1-rmse:0.163177\n",
            "[105]\tvalidation_0-rmse:0.118613\tvalidation_1-rmse:0.163195\n",
            "[106]\tvalidation_0-rmse:0.118522\tvalidation_1-rmse:0.16314\n",
            "[107]\tvalidation_0-rmse:0.118434\tvalidation_1-rmse:0.163309\n",
            "[108]\tvalidation_0-rmse:0.118168\tvalidation_1-rmse:0.163131\n",
            "[109]\tvalidation_0-rmse:0.117705\tvalidation_1-rmse:0.163195\n",
            "[110]\tvalidation_0-rmse:0.117379\tvalidation_1-rmse:0.163226\n",
            "[111]\tvalidation_0-rmse:0.117099\tvalidation_1-rmse:0.163745\n",
            "[112]\tvalidation_0-rmse:0.116821\tvalidation_1-rmse:0.163848\n",
            "[113]\tvalidation_0-rmse:0.116747\tvalidation_1-rmse:0.163823\n",
            "[114]\tvalidation_0-rmse:0.116501\tvalidation_1-rmse:0.163636\n",
            "[115]\tvalidation_0-rmse:0.116204\tvalidation_1-rmse:0.163755\n",
            "[116]\tvalidation_0-rmse:0.116163\tvalidation_1-rmse:0.163763\n",
            "[117]\tvalidation_0-rmse:0.116114\tvalidation_1-rmse:0.163708\n",
            "[118]\tvalidation_0-rmse:0.116062\tvalidation_1-rmse:0.163686\n",
            "[119]\tvalidation_0-rmse:0.116001\tvalidation_1-rmse:0.163658\n",
            "[120]\tvalidation_0-rmse:0.115871\tvalidation_1-rmse:0.163515\n",
            "[121]\tvalidation_0-rmse:0.115799\tvalidation_1-rmse:0.163492\n",
            "[122]\tvalidation_0-rmse:0.115769\tvalidation_1-rmse:0.163478\n",
            "[123]\tvalidation_0-rmse:0.115611\tvalidation_1-rmse:0.163557\n",
            "[124]\tvalidation_0-rmse:0.115579\tvalidation_1-rmse:0.163603\n",
            "[125]\tvalidation_0-rmse:0.115537\tvalidation_1-rmse:0.163594\n",
            "[126]\tvalidation_0-rmse:0.11552\tvalidation_1-rmse:0.163516\n",
            "[127]\tvalidation_0-rmse:0.115329\tvalidation_1-rmse:0.163542\n",
            "[128]\tvalidation_0-rmse:0.115217\tvalidation_1-rmse:0.16356\n",
            "[129]\tvalidation_0-rmse:0.11516\tvalidation_1-rmse:0.163584\n",
            "[130]\tvalidation_0-rmse:0.115115\tvalidation_1-rmse:0.163579\n",
            "[131]\tvalidation_0-rmse:0.115032\tvalidation_1-rmse:0.163592\n",
            "[132]\tvalidation_0-rmse:0.11494\tvalidation_1-rmse:0.163547\n",
            "[133]\tvalidation_0-rmse:0.114844\tvalidation_1-rmse:0.163495\n",
            "[134]\tvalidation_0-rmse:0.114503\tvalidation_1-rmse:0.163613\n",
            "[135]\tvalidation_0-rmse:0.114461\tvalidation_1-rmse:0.163583\n",
            "[136]\tvalidation_0-rmse:0.114196\tvalidation_1-rmse:0.163629\n",
            "[137]\tvalidation_0-rmse:0.113918\tvalidation_1-rmse:0.163738\n",
            "[138]\tvalidation_0-rmse:0.113839\tvalidation_1-rmse:0.163579\n",
            "[139]\tvalidation_0-rmse:0.113597\tvalidation_1-rmse:0.163656\n",
            "[140]\tvalidation_0-rmse:0.113582\tvalidation_1-rmse:0.16366\n",
            "[141]\tvalidation_0-rmse:0.1135\tvalidation_1-rmse:0.163668\n",
            "[142]\tvalidation_0-rmse:0.113456\tvalidation_1-rmse:0.163636\n",
            "[143]\tvalidation_0-rmse:0.113413\tvalidation_1-rmse:0.163632\n",
            "[144]\tvalidation_0-rmse:0.113371\tvalidation_1-rmse:0.163634\n",
            "[145]\tvalidation_0-rmse:0.113229\tvalidation_1-rmse:0.163567\n",
            "[146]\tvalidation_0-rmse:0.112948\tvalidation_1-rmse:0.163644\n",
            "[147]\tvalidation_0-rmse:0.112885\tvalidation_1-rmse:0.163664\n",
            "[148]\tvalidation_0-rmse:0.112649\tvalidation_1-rmse:0.163748\n",
            "[149]\tvalidation_0-rmse:0.112631\tvalidation_1-rmse:0.163738\n",
            "[150]\tvalidation_0-rmse:0.112411\tvalidation_1-rmse:0.163643\n",
            "[151]\tvalidation_0-rmse:0.112318\tvalidation_1-rmse:0.163358\n",
            "Stopping. Best iteration:\n",
            "[101]\tvalidation_0-rmse:0.119378\tvalidation_1-rmse:0.162838\n",
            "\n"
          ]
        },
        {
          "output_type": "execute_result",
          "data": {
            "text/plain": [
              "XGBRegressor(learning_rate=0.2, n_estimators=1000, n_jobs=-1,\n",
              "             objective='reg:squarederror')"
            ]
          },
          "metadata": {},
          "execution_count": 75
        }
      ]
    },
    {
      "cell_type": "code",
      "source": [
        "## Train - XGB 모델 오류 확인 \n",
        "def adj_r2(r2, n, p):\n",
        "    return 1 - (1-r2)*(n-1)/(n-p-1)\n",
        "    \n",
        "y_pred = boosting.predict(X_train)\n",
        "r2 = r2_score(y_train, y_pred)\n",
        "mse = mean_squared_error(y_train,y_pred)\n",
        "print(f'훈련 세트 r2: {r2:.10f}')\n",
        "print(f'훈련 세트 조정된 r2: {adj_r2(r2, X_train.shape[0], X_train.shape[1]):.10f}')\n",
        "print(f'훈련 세트 MSE: {mse:,.10f}')\n",
        "print(\"--\" * 30)\n",
        "plt.scatter(y_train, y_pred, alpha=0.4)\n",
        "plt.xlabel(\"Actual Watching Rate\")\n",
        "plt.ylabel(\"Predicted Watching Rate\")\n",
        "plt.title(\"XGBOOST REGRESSION\")\n",
        "plt.show()"
      ],
      "metadata": {
        "colab": {
          "base_uri": "https://localhost:8080/",
          "height": 368
        },
        "id": "efClYJuvaSm4",
        "outputId": "b3e3cc49-9b10-4cc4-a610-8091820ac8ca"
      },
      "execution_count": 85,
      "outputs": [
        {
          "output_type": "stream",
          "name": "stdout",
          "text": [
            "훈련 세트 r2: 0.9471423358\n",
            "훈련 세트 조정된 r2: 0.9450530807\n",
            "훈련 세트 MSE: 0.0142510452\n",
            "------------------------------------------------------------\n"
          ]
        },
        {
          "output_type": "display_data",
          "data": {
            "text/plain": [
              "<Figure size 432x288 with 1 Axes>"
            ],
            "image/png": "[encoded data removed]"
          },
          "metadata": {
            "needs_background": "light"
          }
        }
      ]
    },
    {
      "cell_type": "code",
      "source": [
        "y_pred = boosting.predict(X_train_encoded)\n",
        "print('R^2', r2_score(y_train, y_pred))\n",
        "print(f'검증세트 r2: {r2:.10f}')\n",
        "print(f'검증세트 조정된 r2: {adj_r2(r2, X_test.shape[0], X_test.shape[1]):.10f}')\n",
        "print(f'검증세트 MSE: {mse:,.10f}')"
      ],
      "metadata": {
        "colab": {
          "base_uri": "https://localhost:8080/"
        },
        "id": "0Nk3Xu3IaHNs",
        "outputId": "65f58c3a-9322-4909-8900-5485132c1d7e"
      },
      "execution_count": 77,
      "outputs": [
        {
          "output_type": "stream",
          "name": "stdout",
          "text": [
            "R^2 0.9471423358053582\n"
          ]
        }
      ]
    },
    {
      "cell_type": "code",
      "source": [
        "## Val - XGB 모델 오류 확인 \n",
        "def adj_r2(r2, n, p):\n",
        "    return 1 - (1-r2)*(n-1)/(n-p-1)\n",
        "\n",
        "y_pred = boosting.predict(X_val)\n",
        "r2 = r2_score(y_val, y_pred)\n",
        "mse = mean_squared_error(y_val,y_pred)\n",
        "print(f'검증 세트 r2: {r2:.10f}')\n",
        "print(f'검증 세트 조정된 r2: {adj_r2(r2, X_val.shape[0], X_val.shape[1]):.10f}')\n",
        "print(f'검증 세트 MSE: {mse:,.10f}')\n",
        "print(\"--\" * 30)\n",
        "plt.scatter(y_val, y_pred, alpha=0.4)\n",
        "plt.xlabel(\"Actual Watching Rate\")\n",
        "plt.ylabel(\"Predicted Watching Rate\")\n",
        "plt.title(\"XGBOOST REGRESSION\")\n",
        "plt.show()"
      ],
      "metadata": {
        "colab": {
          "base_uri": "https://localhost:8080/",
          "height": 368
        },
        "id": "UW-YwS7uadzJ",
        "outputId": "ac24033c-32b4-4b45-b234-6a55f295a317"
      },
      "execution_count": 87,
      "outputs": [
        {
          "output_type": "stream",
          "name": "stdout",
          "text": [
            "검증 세트 r2: 0.9140339392\n",
            "검증 세트 조정된 r2: 0.8986106165\n",
            "검증 세트 MSE: 0.0265162527\n",
            "------------------------------------------------------------\n"
          ]
        },
        {
          "output_type": "display_data",
          "data": {
            "text/plain": [
              "<Figure size 432x288 with 1 Axes>"
            ],
            "image/png": "[encoded data removed]"
          },
          "metadata": {
            "needs_background": "light"
          }
        }
      ]
    },
    {
      "cell_type": "code",
      "source": [
        "y_pred = boosting.predict(X_val_encoded)\n",
        "print('R^2', r2_score(y_val, y_pred))"
      ],
      "metadata": {
        "colab": {
          "base_uri": "https://localhost:8080/"
        },
        "id": "jHIYCHdCaB8u",
        "outputId": "0cad6a89-f991-4f67-a526-928e31544a5a"
      },
      "execution_count": 76,
      "outputs": [
        {
          "output_type": "stream",
          "name": "stdout",
          "text": [
            "R^2 0.9140339391997713\n"
          ]
        }
      ]
    },
    {
      "cell_type": "code",
      "source": [
        "## Test - XGB 모델 오류 확인 \n",
        "def adj_r2(r2, n, p):\n",
        "    return 1 - (1-r2)*(n-1)/(n-p-1)\n",
        "\n",
        "scaled_columns = ['m_20', 'f_20', 'f_30']\n",
        "MinMaxScaler().fit(X_test[scaled_columns]) #MinMaxScaler로 시청률 범위 정규화\n",
        "encoder = OneHotEncoder(use_cat_names = True) #OHE로 범주형 데이터 인코딩 \n",
        "\n",
        "X_test_encoded = encoder.fit_transform(X_test)\n",
        "y_pred = boosting.predict(X_test_encoded)\n",
        "r2 = r2_score(y_test, y_pred)\n",
        "mse = mean_squared_error(y_test,y_pred)\n",
        "print(f'테스트 세트 r2: {r2:.10f}')\n",
        "print(f'테스트 세트 조정된 r2: {adj_r2(r2, X_test_encoded.shape[0], X_test_encoded.shape[1]):.10f}')\n",
        "print(f'테스트 세트 MSE: {mse:,.10f}')\n",
        "\n",
        "print(\"--\" * 30)\n",
        "plt.scatter(y_test, y_pred, alpha=0.4)\n",
        "plt.xlabel(\"Actual Watching Rate\")\n",
        "plt.ylabel(\"Predicted Watching Rate\")\n",
        "plt.title(\"XGBOOST REGRESSION\")\n",
        "plt.show()"
      ],
      "metadata": {
        "colab": {
          "base_uri": "https://localhost:8080/",
          "height": 368
        },
        "id": "WR2CBntxatyB",
        "outputId": "a2026fe8-afd3-48be-8fd0-46907b13ce99"
      },
      "execution_count": 86,
      "outputs": [
        {
          "output_type": "stream",
          "name": "stdout",
          "text": [
            "테스트 세트 r2: 0.8827329193\n",
            "테스트 세트 조정된 r2: 0.8724867471\n",
            "테스트 세트 MSE: 0.0273257473\n",
            "------------------------------------------------------------\n"
          ]
        },
        {
          "output_type": "display_data",
          "data": {
            "text/plain": [
              "<Figure size 432x288 with 1 Axes>"
            ],
            "image/png": "[encoded data removed]"
          },
          "metadata": {
            "needs_background": "light"
          }
        }
      ]
    },
    {
      "cell_type": "code",
      "source": [
        "## XGB 하이퍼 파라미터 튜닝 \n",
        "xgb_param_grid = {\n",
        "    'n_estimators': randint(50, 500),\n",
        "    'max_depth': [4, 5, 6, 7, 8, None],\n",
        "    'subsample': np.linspace(0.4, 1, 7),\n",
        "    'lamda': np.linspace(0.4, 1, 7)}\n",
        "\n",
        "# Create a random search object\n",
        "xgb_random = RandomizedSearchCV(boosting,\n",
        "                                param_distributions = xgb_param_grid,\n",
        "                                n_iter = 10,\n",
        "                                scoring='neg_mean_squared_error', \n",
        "                                n_jobs=-1, \n",
        "                                cv = 3, \n",
        "                                refit=True, \n",
        "                                return_train_score = True)\n",
        "\n",
        "# Fit to the training data\n",
        "xgb_random.fit(X_train, y_train)"
      ],
      "metadata": {
        "colab": {
          "base_uri": "https://localhost:8080/"
        },
        "id": "mg4NeLkScDdZ",
        "outputId": "19831989-d522-437b-c476-2d3b41c01417"
      },
      "execution_count": 92,
      "outputs": [
        {
          "output_type": "execute_result",
          "data": {
            "text/plain": [
              "RandomizedSearchCV(cv=3,\n",
              "                   estimator=XGBRegressor(learning_rate=0.2, n_estimators=1000,\n",
              "                                          n_jobs=-1,\n",
              "                                          objective='reg:squarederror'),\n",
              "                   n_jobs=-1,\n",
              "                   param_distributions={'lamda': array([0.4, 0.5, 0.6, 0.7, 0.8, 0.9, 1. ]),\n",
              "                                        'max_depth': [4, 5, 6, 7, 8, None],\n",
              "                                        'n_estimators': <scipy.stats._distn_infrastructure.rv_frozen object at 0x7f4c189abed0>,\n",
              "                                        'subsample': array([0.4, 0.5, 0.6, 0.7, 0.8, 0.9, 1. ])},\n",
              "                   return_train_score=True, scoring='neg_mean_squared_error')"
            ]
          },
          "metadata": {},
          "execution_count": 92
        }
      ]
    },
    {
      "cell_type": "code",
      "source": [
        "xgb_random.best_estimator_ \n",
        "#XGBRegressor(lamda=0.8, learning_rate=0.2, max_depth=4, n_estimators=390,\n",
        "            #  n_jobs=-1, objective='reg:squarederror', subsample=0.8)"
      ],
      "metadata": {
        "colab": {
          "base_uri": "https://localhost:8080/"
        },
        "id": "AA9Pndeomi58",
        "outputId": "84fc50cd-71a0-40b8-8b67-73d0f49af371"
      },
      "execution_count": 93,
      "outputs": [
        {
          "output_type": "execute_result",
          "data": {
            "text/plain": [
              "XGBRegressor(lamda=0.8, learning_rate=0.2, max_depth=4, n_estimators=390,\n",
              "             n_jobs=-1, objective='reg:squarederror', subsample=0.8)"
            ]
          },
          "metadata": {},
          "execution_count": 93
        }
      ]
    },
    {
      "cell_type": "code",
      "source": [
        "# train - XGB 모델 오류 확인 (RandomizedSearchCV)\n",
        "scaled_columns = ['m_20', 'f_20', 'f_30']\n",
        "\n",
        "MinMaxScaler().fit(X_train[scaled_columns]) #MinMaxScaler로 시청률 범위 정규화\n",
        "encoder = OneHotEncoder(use_cat_names = True) #OHE로 범주형 데이터 인코딩 \n",
        "X_train_encoded = encoder.fit_transform(X_train) #OHE로 fit and transform - X_train\n",
        "\n",
        "boost = xgb_random.best_estimator_\n",
        "y_pred = boost.predict(X_train_encoded)\n",
        "r2 = r2_score(y_train, y_pred)\n",
        "\n",
        "print(f'훈련 세트 r2: {r2:.10f}')\n",
        "print(f'훈련 세트 조정된 r2: {adj_r2(r2, X_train_encoded.shape[0], X_train_encoded.shape[1]):.10f}')\n",
        "print(f'훈련 세트 MSE: {mse:,.10f}')"
      ],
      "metadata": {
        "colab": {
          "base_uri": "https://localhost:8080/"
        },
        "id": "2bk2QbGsmor2",
        "outputId": "192df846-1bf2-4817-986f-6fcef46e3b3c"
      },
      "execution_count": 101,
      "outputs": [
        {
          "output_type": "stream",
          "name": "stdout",
          "text": [
            "훈련 세트 r2: 0.9804262964\n",
            "훈련 세트 조정된 r2: 0.9796526250\n",
            "훈련 세트 MSE: 0.0265162527\n"
          ]
        }
      ]
    },
    {
      "cell_type": "code",
      "source": [
        "# val - XGB 모델 오류 확인 (RandomizedSearchCV)\n",
        "scaled_columns = ['m_20', 'f_20', 'f_30']\n",
        "\n",
        "MinMaxScaler().fit(X_train[scaled_columns]) #MinMaxScaler로 시청률 범위 정규화\n",
        "encoder = OneHotEncoder(use_cat_names = True) #OHE로 범주형 데이터 인코딩  \n",
        "X_val_encoded = encoder.fit_transform(X_val) #OHE로 fit and transform - X_val\n",
        "\n",
        "boost = xgb_random.best_estimator_\n",
        "y_pred = boost.predict(X_val_encoded)\n",
        "r2 = r2_score(y_val, y_pred)\n",
        "print(f'검증 세트 r2: {r2:.10f}')\n",
        "print(f'검증 세트 조정된 r2: {adj_r2(r2, X_val_encoded.shape[0], X_val_encoded.shape[1]):.10f}')\n",
        "print(f'검증 세트 MSE: {mse:,.10f}')"
      ],
      "metadata": {
        "colab": {
          "base_uri": "https://localhost:8080/"
        },
        "id": "q2UTHdisnUJg",
        "outputId": "325511b9-bd1b-4f64-bec4-06fbed4ad7d9"
      },
      "execution_count": 107,
      "outputs": [
        {
          "output_type": "stream",
          "name": "stdout",
          "text": [
            "검증 세트 r2: 0.9102384870\n",
            "검증 세트 조정된 r2: 0.8941342155\n",
            "검증 세트 MSE: 0.0265162527\n"
          ]
        }
      ]
    },
    {
      "cell_type": "code",
      "source": [
        "# Test - XGB 모델 오류 확인 (RandomizedSearchCV)\n",
        "scaled_columns = ['m_20', 'f_20', 'f_30']\n",
        "\n",
        "# MinMaxScaler().fit(X_test[scaled_columns]) #MinMaxScaler로 시청률 범위 정규화\n",
        "encoder = OneHotEncoder(use_cat_names = True) #OHE로 범주형 데이터 인코딩  \n",
        "# X_test_encoded = encoder.transform(X_test) #OHE로 transform - X_test\n",
        "\n",
        "boost = xgb_random.best_estimator_\n",
        "y_pred = boost.predict(X_test_encoded)\n",
        "r2 = r2_score(y_test, y_pred)\n",
        "print(f'검증세트 r2: {r2:.10f}')\n",
        "print(f'검증세트 조정된 r2: {adj_r2(r2, X_test_encoded.shape[0], X_test_encoded.shape[1]):.10f}')\n",
        "print(f'검증세트 MSE: {mse:,.10f}')"
      ],
      "metadata": {
        "colab": {
          "base_uri": "https://localhost:8080/"
        },
        "id": "qrk2smaineyI",
        "outputId": "af612ada-ffeb-4a4f-bb64-5446d598bd92"
      },
      "execution_count": 110,
      "outputs": [
        {
          "output_type": "stream",
          "name": "stdout",
          "text": [
            "검증세트 r2: 0.8664400498\n",
            "검증세트 조정된 r2: 0.8547702936\n",
            "검증세트 MSE: 0.0265162527\n"
          ]
        }
      ]
    }
  ]
}